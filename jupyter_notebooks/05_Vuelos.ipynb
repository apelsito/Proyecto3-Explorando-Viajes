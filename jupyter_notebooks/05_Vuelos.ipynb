{
 "cells": [
  {
   "cell_type": "code",
   "execution_count": 1,
   "metadata": {},
   "outputs": [],
   "source": [
    "# Importamos las librerías que necesitamos\n",
    "\n",
    "# Librerías de extracción de datos\n",
    "# -----------------------------------------------------------------------\n",
    "from bs4 import BeautifulSoup\n",
    "import requests\n",
    "import tqdm\n",
    "# Tratamiento de datos\n",
    "# -----------------------------------------------------------------------\n",
    "import pandas as pd\n",
    "import numpy as np\n",
    "import datetime\n",
    "\n",
    "# Requests\n",
    "import requests\n",
    "\n",
    "from time import sleep\n",
    "import random\n",
    "\n",
    "# Para trabajar con archivos dotenv y los tokens\n",
    "# -----------------------------------------------------------------------\n",
    "import os\n",
    "import dotenv\n",
    "dotenv.load_dotenv(dotenv_path=\"../src/.env\")\n",
    "# Para Importar desde rutas recursivas\n",
    "# -----------------------------------------------------------------------\n",
    "import sys\n",
    "sys.path.append(\"../\") #Para poder importar\n",
    "from src.SupportVuelos import get_airport"
   ]
  },
  {
   "cell_type": "markdown",
   "metadata": {},
   "source": [
    "# Aeropuertos\n",
    "- MAD: 95565077\n",
    "- OSL:\n",
    "- NCE:"
   ]
  },
  {
   "cell_type": "code",
   "execution_count": 5,
   "metadata": {},
   "outputs": [],
   "source": [
    "aeropuertos = [\"madrid\",\"niza\",\"oslo\"]\n",
    "resultados = [get_airport(i) for i in aeropuertos]"
   ]
  },
  {
   "cell_type": "code",
   "execution_count": 6,
   "metadata": {},
   "outputs": [
    {
     "data": {
      "text/plain": [
       "[['MAD', '95565077', 'AIRPORT', 'Madrid-Barajas'],\n",
       " ['NCE', '95673860', 'AIRPORT', 'Niza'],\n",
       " ['OSL', '128667763', 'AIRPORT', 'Oslo-Gardermoen']]"
      ]
     },
     "execution_count": 6,
     "metadata": {},
     "output_type": "execute_result"
    }
   ],
   "source": [
    "resultados\n",
    "df = pd.DataFrame()\n",
    "for i in range(0,len(resultados)):\n",
    "    df_temp = pd.DataFrame({\n",
    "        \"skyId\": resultados[i][0],\n",
    "        \"entityId\": resultados[i][1],\n",
    "        \"flightPlaceType\" : resultados[i][2],\n",
    "        \"localizedName\" : resultados[i][3]}))"
   ]
  }
 ],
 "metadata": {
  "kernelspec": {
   "display_name": "Hackio_Proyecto_Semana_3",
   "language": "python",
   "name": "python3"
  },
  "language_info": {
   "codemirror_mode": {
    "name": "ipython",
    "version": 3
   },
   "file_extension": ".py",
   "mimetype": "text/x-python",
   "name": "python",
   "nbconvert_exporter": "python",
   "pygments_lexer": "ipython3",
   "version": "3.11.9"
  }
 },
 "nbformat": 4,
 "nbformat_minor": 2
}
