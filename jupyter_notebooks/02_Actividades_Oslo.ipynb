{
 "cells": [
  {
   "cell_type": "markdown",
   "metadata": {},
   "source": [
    "# Actividades Oslo\n",
    "El objetivo es crear una tabla con varias actividades de Oslo, vamos a intentarlo con esta url:\n",
    "- https://www.tripadvisor.es/Attractions-g190479-Activities-oa0-Oslo_Eastern_Norway.html\n",
    "- https://www.tripadvisor.es/Attractions-g190479-Activities-oa30-Oslo_Eastern_Norway.html\n"
   ]
  },
  {
   "cell_type": "code",
   "execution_count": 1,
   "metadata": {},
   "outputs": [],
   "source": [
    "# Importamos las librerías que necesitamos\n",
    "\n",
    "# Librerías para extracción y scraping de datos\n",
    "# -----------------------------------------------------------------------\n",
    "from bs4 import BeautifulSoup  # Librería para extraer datos de HTML y XML, utilizada para scraping web\n",
    "import requests                # Para realizar solicitudes HTTP y obtener datos de páginas web\n",
    "import tqdm                    # Para mostrar una barra de progreso en procesos largos (útil en bucles)\n",
    "\n",
    "# Librerías para el tratamiento y manipulación de datos\n",
    "# -----------------------------------------------------------------------\n",
    "import pandas as pd             # Para manipular estructuras de datos como DataFrames y realizar análisis de datos\n",
    "import numpy as np              # Para cálculos numéricos, creación de arrays y operaciones matemáticas\n",
    "import datetime                 # Para manipular fechas y horas, útil en la organización de datos temporales\n",
    "\n",
    "# Manejo del tiempo y generación de pausas\n",
    "# -----------------------------------------------------------------------\n",
    "from time import sleep          # Para pausar la ejecución del código por un tiempo definido, útil para evitar sobrecarga en solicitudes web\n",
    "import random                   # Para generar valores aleatorios, útil para espaciar solicitudes y evitar bloqueos o límites de rate\n",
    "\n"
   ]
  },
  {
   "cell_type": "code",
   "execution_count": 2,
   "metadata": {},
   "outputs": [],
   "source": [
    "headers = {\n",
    "        # Decirle al server lenguaje español\n",
    "        'accept-language': 'es', \n",
    "        # Simulamos que somos el navegador Chrome\n",
    "        'User-Agent': 'Mozilla/5.0 (Windows NT 10.0; Win64; x64) AppleWebKit/537.36 (KHTML, like Gecko) Chrome/95.0.4638.69 Safari/537.36'\n",
    "        }\n",
    "url_tripadvisor = \"https://www.tripadvisor.es/Attractions-g190479-Activities-oa0-Oslo_Eastern_Norway.html\"\n",
    "\n",
    "res_tripadvisor = requests.get(url_tripadvisor,headers=headers,timeout=5)\n",
    "sopa_actividades_temp = BeautifulSoup(res_tripadvisor.content, \"html.parser\")"
   ]
  },
  {
   "cell_type": "code",
   "execution_count": 31,
   "metadata": {},
   "outputs": [],
   "source": [
    "headers = {\n",
    "        # Decirle al server lenguaje español\n",
    "        'accept-language': 'es', \n",
    "        # Simulamos que somos el navegador Chrome\n",
    "        'User-Agent': 'Mozilla/5.0 (Windows NT 10.0; Win64; x64) AppleWebKit/537.36 (KHTML, like Gecko) Chrome/95.0.4638.69 Safari/537.36'\n",
    "        }\n",
    "url_tripadvisor2 = \"https://www.tripadvisor.es/Attractions-g190479-Activities-oa30-Oslo_Eastern_Norway.html\"\n",
    "res_tripadvisor2 = requests.get(url_tripadvisor2,headers=headers,timeout=5)\n",
    "sopa_actividades_temp2 = BeautifulSoup(res_tripadvisor2.content, \"html.parser\")"
   ]
  },
  {
   "cell_type": "markdown",
   "metadata": {},
   "source": [
    "# Guardamos la página para no saturar los servicios"
   ]
  },
  {
   "cell_type": "markdown",
   "metadata": {},
   "source": [
    "with open(\"../datos/html_backups/actividades_tripadvisor_oslo_pg1.html\", \"w\", encoding=\"utf-8\") as file:\n",
    "    file.write(str(sopa_actividades_temp))\n"
   ]
  },
  {
   "cell_type": "markdown",
   "metadata": {},
   "source": [
    "with open(\"../datos/html_backups/actividades_tripadvisor_oslo_pg2.html\", \"w\", encoding=\"utf-8\") as file:\n",
    "    file.write(str(sopa_actividades_temp2))"
   ]
  },
  {
   "cell_type": "markdown",
   "metadata": {},
   "source": [
    "# A partir de ahora abro los HTML desde aquí, pues no queremos saturar TripAdvisor\n",
    "Poner esto en el readme\n",
    "\n",
    "ACUERDATEEEEE"
   ]
  },
  {
   "cell_type": "code",
   "execution_count": 46,
   "metadata": {},
   "outputs": [],
   "source": [
    "# Abre el archivo HTML guardado\n",
    "with open(\"../datos/html_backups/actividades_tripadvisor_oslo_pg1.html\", \"r\", encoding=\"utf-8\") as file:\n",
    "    pagina1 = file.read()\n",
    "with open(\"../datos/html_backups/actividades_tripadvisor_oslo_pg2.html\", \"r\", encoding=\"utf-8\") as file:\n",
    "    pagina2 = file.read()\n",
    "#Lo volvemos a convertir en sopa\n",
    "sopa_actividades_pg1 = BeautifulSoup(pagina1, \"html.parser\")\n",
    "sopa_actividades_pg2 = BeautifulSoup(pagina2, \"html.parser\")\n",
    "# Esto pone el HTML legible\n",
    "#print(sopa_actividades.prettify())  \n"
   ]
  },
  {
   "cell_type": "code",
   "execution_count": 56,
   "metadata": {},
   "outputs": [],
   "source": [
    "\n",
    "nombre_actividades_pg1 = sopa_actividades_pg1.find_all(\"div\",{\"class\":\"XfVdV o AIbhI\"})\n",
    "nombre_actividades_pg2 = sopa_actividades_pg2.find_all(\"div\",{\"class\":\"XfVdV o AIbhI\"})\n",
    "\n",
    "rating_actividades_pg1 = sopa_actividades_pg1.find_all(\"div\",{\"class\":\"jVDab W f u w JqMhy\"})\n",
    "rating_actividades_pg2 = sopa_actividades_pg1.find_all(\"div\",{\"class\":\"jVDab W f u w JqMhy\"})\n",
    "\n",
    "url_actividades_pg1 = sopa_actividades_pg1.find_all(\"a\",{\"class\":\"BUupS _R w _Z y M0 B0 Gm wSSLS\"})\n",
    "url_actividades_pg2 = sopa_actividades_pg2.find_all(\"a\",{\"class\":\"BUupS _R w _Z y M0 B0 Gm bYExr\"})\n",
    "\n"
   ]
  },
  {
   "cell_type": "markdown",
   "metadata": {},
   "source": [
    "cogemos todo de cada página"
   ]
  },
  {
   "cell_type": "code",
   "execution_count": 57,
   "metadata": {},
   "outputs": [],
   "source": [
    "#Nombre Actividad\n",
    "nombre_pg1 = [nombre.getText() for nombre in nombre_actividades_pg1]\n",
    "nombre_pg2 = [nombre.getText() for nombre in nombre_actividades_pg2]"
   ]
  },
  {
   "cell_type": "code",
   "execution_count": 58,
   "metadata": {},
   "outputs": [],
   "source": [
    "#Valoración de la actividad\n",
    "rating_pg1 = [rating.contents[0].getText() for rating in rating_actividades_pg1]\n",
    "rating_pg2 = [rating.contents[0].getText() for rating in rating_actividades_pg2]"
   ]
  },
  {
   "cell_type": "code",
   "execution_count": 59,
   "metadata": {},
   "outputs": [],
   "source": [
    "#url a la actividad, la usaremos para luego obtener horario y precio (si hubiera)\n",
    "url_pg1 = [f\"https://www.tripadvisor.es/{url.get('href')}\" for url in url_actividades_pg1]\n",
    "url_pg2 = [f\"https://www.tripadvisor.es/{url.get('href')}\" for url in url_actividades_pg2]"
   ]
  },
  {
   "cell_type": "markdown",
   "metadata": {},
   "source": [
    "Obtener lista unificadas de nombres"
   ]
  },
  {
   "cell_type": "code",
   "execution_count": 60,
   "metadata": {},
   "outputs": [],
   "source": [
    "for i in range(0,len(nombre_pg2)):\n",
    "   nombre_pg1.append(nombre_pg2[i])\n",
    "\n",
    "actividad = nombre_pg1\n",
    "#Sacamos las numeraciones para dejar el número\n",
    "for i in range(0, len(actividad)):\n",
    "    actividad[i] = actividad[i].replace(f\"{i+1}. \", \"\")  # Reasignar el valor tras el reemplazo\n"
   ]
  },
  {
   "cell_type": "markdown",
   "metadata": {},
   "source": [
    "Obtener lista unificadas de ratings"
   ]
  },
  {
   "cell_type": "code",
   "execution_count": 61,
   "metadata": {},
   "outputs": [],
   "source": [
    "for i in range(0,len(rating_pg2)):\n",
    "    rating_pg1.append(rating_pg2[i])\n",
    "\n",
    "calificacion = rating_pg1\n",
    "#Sacamos los ratings y les damos formato\n",
    "for i in range(0, len(calificacion)):\n",
    "    calificacion[i] = calificacion[i].split()[0].replace(\",\",\".\")\n"
   ]
  },
  {
   "cell_type": "markdown",
   "metadata": {},
   "source": [
    "Obtener las URLs"
   ]
  },
  {
   "cell_type": "code",
   "execution_count": 62,
   "metadata": {},
   "outputs": [
    {
     "data": {
      "text/plain": [
       "['https://www.tripadvisor.es//Attraction_Review-g190479-d656587-Reviews-Fram_Museum-Oslo_Eastern_Norway.html',\n",
       " 'https://www.tripadvisor.es//Attraction_Review-g190479-d246066-Reviews-Norsk_Folkemuseum-Oslo_Eastern_Norway.html',\n",
       " 'https://www.tripadvisor.es//Attraction_Review-g190479-d9602729-Reviews-Vigeland_Park-Oslo_Eastern_Norway.html',\n",
       " 'https://www.tripadvisor.es//Attraction_Review-g190479-d1902077-Reviews-The_Norwegian_National_Opera_Ballet-Oslo_Eastern_Norway.html',\n",
       " 'https://www.tripadvisor.es//Attraction_Review-g190479-d2237933-Reviews-Oslofjord-Oslo_Eastern_Norway.html',\n",
       " 'https://www.tripadvisor.es//Attraction_Review-g190479-d3524103-Reviews-The_Bergen_Railway-Oslo_Eastern_Norway.html',\n",
       " 'https://www.tripadvisor.es//Attraction_Review-g190479-d206464-Reviews-Viking_Ship_Museum-Oslo_Eastern_Norway.html',\n",
       " 'https://www.tripadvisor.es//Attraction_Review-g190479-d196804-Reviews-Vigeland_Museum-Oslo_Eastern_Norway.html',\n",
       " 'https://www.tripadvisor.es//Attraction_Review-g190479-d24051441-Reviews-The_National_Museum-Oslo_Eastern_Norway.html',\n",
       " 'https://www.tripadvisor.es//Attraction_Review-g190479-d206475-Reviews-The_Kon_Tiki_Museum-Oslo_Eastern_Norway.html',\n",
       " 'https://www.tripadvisor.es//Attraction_Review-g190479-d206477-Reviews-Akershus_Castle_and_Fortress_Akershus_Slott_og_Festning-Oslo_Eastern_Norway.html',\n",
       " 'https://www.tripadvisor.es//Attraction_Review-g190479-d196805-Reviews-Munch-Oslo_Eastern_Norway.html',\n",
       " 'https://www.tripadvisor.es//Attraction_Review-g190479-d9599227-Reviews-Frogner_Park-Oslo_Eastern_Norway.html',\n",
       " 'https://www.tripadvisor.es//Attraction_Review-g190479-d206479-Reviews-Karl_Johans_Gate-Oslo_Eastern_Norway.html',\n",
       " 'https://www.tripadvisor.es//Attraction_Review-g190479-d522139-Reviews-Aker_Brygge-Oslo_Eastern_Norway.html',\n",
       " 'https://www.tripadvisor.es//Attraction_Review-g190479-d656633-Reviews-The_Royal_Palace-Oslo_Eastern_Norway.html',\n",
       " 'https://www.tripadvisor.es//Attraction_Review-g190479-d206468-Reviews-Oslo_City_Hall-Oslo_Eastern_Norway.html',\n",
       " 'https://www.tripadvisor.es//Attraction_Review-g190479-d246507-Reviews-Bygdoy_Peninsula-Oslo_Eastern_Norway.html',\n",
       " 'https://www.tripadvisor.es//Attraction_Review-g190479-d5045183-Reviews-Ekebergparken-Oslo_Eastern_Norway.html',\n",
       " 'https://www.tripadvisor.es//Attraction_Review-g190479-d206467-Reviews-Norges_Hjemmefrontmuseum-Oslo_Eastern_Norway.html',\n",
       " 'https://www.tripadvisor.es//Attraction_Review-g190479-d579345-Reviews-Nobel_Peace_Center-Oslo_Eastern_Norway.html',\n",
       " 'https://www.tripadvisor.es//Attraction_Review-g190479-d14984349-Reviews-Nordisk_Bibelmuseum-Oslo_Eastern_Norway.html',\n",
       " 'https://www.tripadvisor.es//Attraction_Review-g190479-d206469-Reviews-Holmenkollen_Ski_Museum-Oslo_Eastern_Norway.html',\n",
       " 'https://www.tripadvisor.es//Attraction_Review-g190479-d526924-Reviews-Botanical_Garden-Oslo_Eastern_Norway.html',\n",
       " 'https://www.tripadvisor.es//Attraction_Review-g190479-d591712-Reviews-Sognsvann_Lake-Oslo_Eastern_Norway.html',\n",
       " 'https://www.tripadvisor.es//Attraction_Review-g190479-d246071-Reviews-The_Norwegian_Museum_of_Science_and_Tehnology-Oslo_Eastern_Norway.html',\n",
       " 'https://www.tripadvisor.es//Attraction_Review-g190479-d656575-Reviews-Grunerlokka-Oslo_Eastern_Norway.html',\n",
       " 'https://www.tripadvisor.es//Attraction_Review-g190479-d656591-Reviews-Oscarsborg_Fortress-Oslo_Eastern_Norway.html',\n",
       " 'https://www.tripadvisor.es//Attraction_Review-g190479-d640690-Reviews-Astrup_Fearnley_Museet-Oslo_Eastern_Norway.html',\n",
       " 'https://www.tripadvisor.es//Attraction_Review-g190479-d591707-Reviews-Korketrekkeren-Oslo_Eastern_Norway.html',\n",
       " 'https://www.tripadvisor.es//Attraction_Review-g190479-d656583-Reviews-Hovedoya-Oslo_Eastern_Norway.html',\n",
       " 'https://www.tripadvisor.es//Attraction_Review-g190479-d526934-Reviews-The_Norwegian_Parliament-Oslo_Eastern_Norway.html',\n",
       " 'https://www.tripadvisor.es//Attraction_Review-g190479-d9728319-Reviews-HIMKOK_Storgata_Destilleri-Oslo_Eastern_Norway.html',\n",
       " 'https://www.tripadvisor.es//Attraction_Review-g190479-d3478798-Reviews-Akerselva_River-Oslo_Eastern_Norway.html',\n",
       " 'https://www.tripadvisor.es//Attraction_Review-g190479-d246068-Reviews-The_Ibsen_Museum-Oslo_Eastern_Norway.html',\n",
       " 'https://www.tripadvisor.es//Attraction_Review-g190479-d8319331-Reviews-Oslo_s_Harbour_Promenade-Oslo_Eastern_Norway.html',\n",
       " 'https://www.tripadvisor.es//Attraction_Review-g190479-d590393-Reviews-Oslo_Cathedral-Oslo_Eastern_Norway.html',\n",
       " 'https://www.tripadvisor.es//Attraction_Review-g190479-d8825973-Reviews-22_Juli_senteret-Oslo_Eastern_Norway.html',\n",
       " 'https://www.tripadvisor.es//Attraction_Review-g190479-d8131808-Reviews-Tjuvholmen_Sculpture_Park-Oslo_Eastern_Norway.html',\n",
       " 'https://www.tripadvisor.es//Attraction_Review-g190479-d246070-Reviews-Emanuel_Vigeland_Museum-Oslo_Eastern_Norway.html',\n",
       " 'https://www.tripadvisor.es//Attraction_Review-g190479-d3512358-Reviews-Damstredet-Oslo_Eastern_Norway.html',\n",
       " 'https://www.tripadvisor.es//Attraction_Review-g190479-d3473916-Reviews-Oslo_City_Hall_Gallery-Oslo_Eastern_Norway.html',\n",
       " 'https://www.tripadvisor.es//Attraction_Review-g190479-d7624011-Reviews-Oslo_Visitor_Centre-Oslo_Eastern_Norway.html',\n",
       " 'https://www.tripadvisor.es//Attraction_Review-g190479-d206478-Reviews-Armed_Forces_Museum-Oslo_Eastern_Norway.html',\n",
       " 'https://www.tripadvisor.es//Attraction_Review-g190479-d17566939-Reviews-The_Viking_Planet_Oslo-Oslo_Eastern_Norway.html',\n",
       " 'https://www.tripadvisor.es//Attraction_Review-g190479-d8131893-Reviews-Tiger_Sculpture-Oslo_Eastern_Norway.html',\n",
       " 'https://www.tripadvisor.es//Attraction_Review-g190479-d23994914-Reviews-Oslo_Opera_House-Oslo_Eastern_Norway.html',\n",
       " 'https://www.tripadvisor.es//Attraction_Review-g190479-d10393623-Reviews-VR_Games_Zone-Oslo_Eastern_Norway.html',\n",
       " 'https://www.tripadvisor.es//Attraction_Review-g190479-d21288066-Reviews-Deichman_Bjorvika-Oslo_Eastern_Norway.html',\n",
       " 'https://www.tripadvisor.es//Attraction_Review-g190479-d543252-Reviews-Sporveien_T_Banen-Oslo_Eastern_Norway.html',\n",
       " 'https://www.tripadvisor.es//Attraction_Review-g190479-d7702538-Reviews-Ostbanehallen-Oslo_Eastern_Norway.html',\n",
       " 'https://www.tripadvisor.es//Attraction_Review-g190479-d3506685-Reviews-Huk-Oslo_Eastern_Norway.html',\n",
       " 'https://www.tripadvisor.es//Attraction_Review-g190479-d206465-Reviews-Norwegian_Maritime_Museum-Oslo_Eastern_Norway.html',\n",
       " 'https://www.tripadvisor.es//Attraction_Review-g190479-d8131884-Reviews-Barcode_Oslo-Oslo_Eastern_Norway.html',\n",
       " 'https://www.tripadvisor.es//Attraction_Review-g190479-d2306245-Reviews-Naturhistorisk_museum-Oslo_Eastern_Norway.html',\n",
       " 'https://www.tripadvisor.es//Attraction_Review-g190479-d5549686-Reviews-The_Palace_Park-Oslo_Eastern_Norway.html',\n",
       " 'https://www.tripadvisor.es//Attraction_Review-g190479-d7383784-Reviews-Vettakollen_Viewpoint-Oslo_Eastern_Norway.html',\n",
       " 'https://www.tripadvisor.es//Attraction_Review-g190479-d3491286-Reviews-Waterfall_at_Molla-Oslo_Eastern_Norway.html',\n",
       " 'https://www.tripadvisor.es//Attraction_Review-g190479-d20994864-Reviews-Roseslottet-Oslo_Eastern_Norway.html',\n",
       " 'https://www.tripadvisor.es//Attraction_Review-g190479-d8444295-Reviews-She_Lies-Oslo_Eastern_Norway.html']"
      ]
     },
     "execution_count": 62,
     "metadata": {},
     "output_type": "execute_result"
    }
   ],
   "source": [
    "for i in range(0,len(url_pg2)):\n",
    "    url_pg1.append(url_pg2[i])\n",
    "\n",
    "hipervinculos = url_pg1"
   ]
  },
  {
   "cell_type": "code",
   "execution_count": 63,
   "metadata": {},
   "outputs": [],
   "source": [
    "df = pd.DataFrame({\n",
    "    \"Actividad\": actividad,\n",
    "    \"Calificación\":calificacion,\n",
    "    \"URL\":hipervinculos\n",
    "})"
   ]
  },
  {
   "cell_type": "code",
   "execution_count": 64,
   "metadata": {},
   "outputs": [
    {
     "data": {
      "text/html": [
       "<div>\n",
       "<style scoped>\n",
       "    .dataframe tbody tr th:only-of-type {\n",
       "        vertical-align: middle;\n",
       "    }\n",
       "\n",
       "    .dataframe tbody tr th {\n",
       "        vertical-align: top;\n",
       "    }\n",
       "\n",
       "    .dataframe thead th {\n",
       "        text-align: right;\n",
       "    }\n",
       "</style>\n",
       "<table border=\"1\" class=\"dataframe\">\n",
       "  <thead>\n",
       "    <tr style=\"text-align: right;\">\n",
       "      <th></th>\n",
       "      <th>Actividad</th>\n",
       "      <th>Calificación</th>\n",
       "      <th>URL</th>\n",
       "    </tr>\n",
       "  </thead>\n",
       "  <tbody>\n",
       "    <tr>\n",
       "      <th>0</th>\n",
       "      <td>Museo Marítimo Nacional</td>\n",
       "      <td>4.5</td>\n",
       "      <td>https://www.tripadvisor.es//Attraction_Review-...</td>\n",
       "    </tr>\n",
       "    <tr>\n",
       "      <th>1</th>\n",
       "      <td>Museo del Pueblo Noruego</td>\n",
       "      <td>4.5</td>\n",
       "      <td>https://www.tripadvisor.es//Attraction_Review-...</td>\n",
       "    </tr>\n",
       "    <tr>\n",
       "      <th>2</th>\n",
       "      <td>Vigeland Park</td>\n",
       "      <td>4.5</td>\n",
       "      <td>https://www.tripadvisor.es//Attraction_Review-...</td>\n",
       "    </tr>\n",
       "    <tr>\n",
       "      <th>3</th>\n",
       "      <td>The Norwegian National Opera &amp; Ballet</td>\n",
       "      <td>4.5</td>\n",
       "      <td>https://www.tripadvisor.es//Attraction_Review-...</td>\n",
       "    </tr>\n",
       "    <tr>\n",
       "      <th>4</th>\n",
       "      <td>Oslofjord</td>\n",
       "      <td>4.5</td>\n",
       "      <td>https://www.tripadvisor.es//Attraction_Review-...</td>\n",
       "    </tr>\n",
       "  </tbody>\n",
       "</table>\n",
       "</div>"
      ],
      "text/plain": [
       "                               Actividad Calificación  \\\n",
       "0                Museo Marítimo Nacional          4.5   \n",
       "1               Museo del Pueblo Noruego          4.5   \n",
       "2                          Vigeland Park          4.5   \n",
       "3  The Norwegian National Opera & Ballet          4.5   \n",
       "4                              Oslofjord          4.5   \n",
       "\n",
       "                                                 URL  \n",
       "0  https://www.tripadvisor.es//Attraction_Review-...  \n",
       "1  https://www.tripadvisor.es//Attraction_Review-...  \n",
       "2  https://www.tripadvisor.es//Attraction_Review-...  \n",
       "3  https://www.tripadvisor.es//Attraction_Review-...  \n",
       "4  https://www.tripadvisor.es//Attraction_Review-...  "
      ]
     },
     "execution_count": 64,
     "metadata": {},
     "output_type": "execute_result"
    }
   ],
   "source": [
    "df.head()"
   ]
  },
  {
   "cell_type": "code",
   "execution_count": 65,
   "metadata": {},
   "outputs": [],
   "source": [
    "df[\"Calificación\"] = df[\"Calificación\"].astype(float)"
   ]
  },
  {
   "cell_type": "code",
   "execution_count": 67,
   "metadata": {},
   "outputs": [],
   "source": [
    "df.to_csv(\"../datos/actividades_oslo.csv\")"
   ]
  },
  {
   "cell_type": "code",
   "execution_count": 25,
   "metadata": {},
   "outputs": [
    {
     "name": "stdout",
     "output_type": "stream",
     "text": [
      "<class 'pandas.core.frame.DataFrame'>\n",
      "RangeIndex: 60 entries, 0 to 59\n",
      "Data columns (total 3 columns):\n",
      " #   Column        Non-Null Count  Dtype  \n",
      "---  ------        --------------  -----  \n",
      " 0   Actividad     60 non-null     object \n",
      " 1   Calificación  60 non-null     float64\n",
      " 2   URL           60 non-null     object \n",
      "dtypes: float64(1), object(2)\n",
      "memory usage: 1.5+ KB\n"
     ]
    }
   ],
   "source": [
    "df.info()"
   ]
  }
 ],
 "metadata": {
  "kernelspec": {
   "display_name": "Hackio_Proyecto_Semana_3",
   "language": "python",
   "name": "python3"
  },
  "language_info": {
   "codemirror_mode": {
    "name": "ipython",
    "version": 3
   },
   "file_extension": ".py",
   "mimetype": "text/x-python",
   "name": "python",
   "nbconvert_exporter": "python",
   "pygments_lexer": "ipython3",
   "version": "3.11.9"
  }
 },
 "nbformat": 4,
 "nbformat_minor": 2
}
