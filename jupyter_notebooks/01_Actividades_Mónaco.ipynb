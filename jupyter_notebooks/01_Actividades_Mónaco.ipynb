{
 "cells": [
  {
   "cell_type": "markdown",
   "metadata": {},
   "source": [
    "# Actividades Mónaco\n",
    "El objetivo es crear una tabla con varias actividades de mónaco, vamos a intentarlo con esta url:\n",
    "- https://www.tripadvisor.es/Attractions-g190405-Activities-oa0-Monaco.html\n"
   ]
  },
  {
   "cell_type": "code",
   "execution_count": 2,
   "metadata": {},
   "outputs": [],
   "source": [
    "# Importamos las librerías que necesitamos\n",
    "\n",
    "# Librerías de extracción de datos\n",
    "# -----------------------------------------------------------------------\n",
    "from bs4 import BeautifulSoup\n",
    "import requests\n",
    "import tqdm\n",
    "# Tratamiento de datos\n",
    "# -----------------------------------------------------------------------\n",
    "import pandas as pd\n",
    "import numpy as np\n",
    "import datetime\n"
   ]
  },
  {
   "cell_type": "code",
   "execution_count": 3,
   "metadata": {},
   "outputs": [],
   "source": [
    "headers = {\n",
    "        # Decirle al server lenguaje español\n",
    "        'accept-language': 'es', \n",
    "        # Simulamos que somos el navegador Chrome\n",
    "        'User-Agent': 'Mozilla/5.0 (Windows NT 10.0; Win64; x64) AppleWebKit/537.36 (KHTML, like Gecko) Chrome/95.0.4638.69 Safari/537.36'\n",
    "        }\n",
    "url_tripadvisor = \"https://www.tripadvisor.es/Attractions-g190405-Activities-oa0-Monaco.html\"\n",
    "\n",
    "res_tripadvisor = requests.get(url_tripadvisor,headers=headers,timeout=5)\n",
    "sopa_actividades_temp = BeautifulSoup(res_tripadvisor.content, \"html.parser\")"
   ]
  },
  {
   "cell_type": "code",
   "execution_count": 23,
   "metadata": {},
   "outputs": [],
   "source": [
    "headers = {\n",
    "        # Decirle al server lenguaje español\n",
    "        'accept-language': 'es', \n",
    "        # Simulamos que somos el navegador Chrome\n",
    "        'User-Agent': 'Mozilla/5.0 (Windows NT 10.0; Win64; x64) AppleWebKit/537.36 (KHTML, like Gecko) Chrome/95.0.4638.69 Safari/537.36'\n",
    "        }\n",
    "url_tripadvisor2 = \"https://www.tripadvisor.es/Attractions-g190405-Activities-oa30-Monaco.html\"\n",
    "res_tripadvisor2 = requests.get(url_tripadvisor2,headers=headers,timeout=5)\n",
    "sopa_actividades_temp2 = BeautifulSoup(res_tripadvisor2.content, \"html.parser\")"
   ]
  },
  {
   "cell_type": "markdown",
   "metadata": {},
   "source": [
    "# Guardamos la página para no saturar los servicios"
   ]
  },
  {
   "cell_type": "markdown",
   "metadata": {},
   "source": [
    "with open(\"../datos/html_backups/actividades_tripadvisor_pg1.html\", \"w\", encoding=\"utf-8\") as file:\n",
    "    file.write(str(sopa_actividades_temp))\n"
   ]
  },
  {
   "cell_type": "markdown",
   "metadata": {},
   "source": [
    "with open(\"../datos/html_backups/actividades_tripadvisor_pg2.html\", \"w\", encoding=\"utf-8\") as file:\n",
    "    file.write(str(sopa_actividades_temp2))"
   ]
  },
  {
   "cell_type": "markdown",
   "metadata": {},
   "source": [
    "# A partir de ahora abro los HTML desde aquí, pues no queremos saturar TripAdvisor\n",
    "Poner esto en el readme\n",
    "\n",
    "ACUERDATEEEEE"
   ]
  },
  {
   "cell_type": "code",
   "execution_count": 28,
   "metadata": {},
   "outputs": [],
   "source": [
    "# Abre el archivo HTML guardado\n",
    "with open(\"../datos/html_backups/actividades_tripadvisor_pg1.html\", \"r\", encoding=\"utf-8\") as file:\n",
    "    pagina1 = file.read()\n",
    "with open(\"../datos/html_backups/actividades_tripadvisor_pg2.html\", \"r\", encoding=\"utf-8\") as file:\n",
    "    pagina2 = file.read()\n",
    "#Lo volvemos a convertir en sopa\n",
    "sopa_actividades_pg1 = BeautifulSoup(pagina1, \"html.parser\")\n",
    "sopa_actividades_pg2 = BeautifulSoup(pagina2, \"html.parser\")\n",
    "# Esto pone el HTML legible\n",
    "#print(sopa_actividades.prettify())  \n"
   ]
  },
  {
   "cell_type": "code",
   "execution_count": 42,
   "metadata": {},
   "outputs": [],
   "source": [
    "nombre_actividades_pg1 = sopa_actividades_pg1.find_all(\"div\",{\"class\":\"XfVdV o AIbhI\"})\n",
    "nombre_actividades_pg2 = sopa_actividades_pg2.find_all(\"div\",{\"class\":\"XfVdV o AIbhI\"})"
   ]
  },
  {
   "cell_type": "code",
   "execution_count": 35,
   "metadata": {},
   "outputs": [
    {
     "data": {
      "text/plain": [
       "'1. Oceanographic Museum of Monaco'"
      ]
     },
     "execution_count": 35,
     "metadata": {},
     "output_type": "execute_result"
    }
   ],
   "source": [
    "nombre_actividades_pg1[0].getText()"
   ]
  },
  {
   "cell_type": "code",
   "execution_count": 43,
   "metadata": {},
   "outputs": [],
   "source": [
    "actividad_pg1 = [nombre.getText() for nombre in nombre_actividades_pg1]\n",
    "actividad_pg2 = [nombre.getText() for nombre in nombre_actividades_pg2]\n"
   ]
  },
  {
   "cell_type": "markdown",
   "metadata": {},
   "source": [
    "Obtener lista unificadas de nombres"
   ]
  },
  {
   "cell_type": "code",
   "execution_count": 44,
   "metadata": {},
   "outputs": [],
   "source": [
    "for i in range(0,len(actividad_pg2)):\n",
    "    actividad_pg1.append(actividad_pg2[i])"
   ]
  },
  {
   "cell_type": "code",
   "execution_count": 47,
   "metadata": {},
   "outputs": [
    {
     "data": {
      "text/plain": [
       "['1. Oceanographic Museum of Monaco',\n",
       " '2. Casino of Monte-Carlo',\n",
       " '3. The Private Collection of Antique Cars of H.S.H. Prince Rainier III',\n",
       " '4. Monte Carlo Harbor',\n",
       " \"5. Prince's Palace of Monaco\",\n",
       " '6. Casino Square',\n",
       " '7. Cathedrale Notre-Dame-Immaculee',\n",
       " '8. Larvotto Beach',\n",
       " '9. Japanese Garden',\n",
       " '10. Monaco Grand Prix',\n",
       " '11. Jardin Exotique de Monaco',\n",
       " '12. Princess Grace Botanical Garden',\n",
       " '13. Place du Palais',\n",
       " '14. Fairmont Hairpin Curve',\n",
       " '15. Opera de Monte-Carlo',\n",
       " '16. Metropole Shopping Monte-Carlo',\n",
       " '17. Casino Café de Paris',\n",
       " '18. Grimaldi Forum',\n",
       " '19. Jardin du Casino',\n",
       " '20. Les Jardins Saint Martin et Sainte Barbe',\n",
       " '21. Louis II Stadium',\n",
       " \"22. Saint Paul's Church Monaco\",\n",
       " '23. Port Hercule',\n",
       " '24. Port de Fontvieille',\n",
       " '25. Juan Manuel Fangio Statue',\n",
       " '26. Stade Nautique Rainier III',\n",
       " '27. Palais Princier de Monaco',\n",
       " '28. La Collection De Voitures De S.A.S. Le Prince De Monaco',\n",
       " '29. The Palace Guards',\n",
       " '30. Monaco Tourist Information Office',\n",
       " '31. Chapelle Sainte Devote',\n",
       " '32. Champions Promenade',\n",
       " '33. Jardin des animalier',\n",
       " '34. Salle des Etoiles',\n",
       " '35. Fontvieille Shopping Centre',\n",
       " '36. Grand Prix Historique',\n",
       " '37. Les Grands Appartements du Palais',\n",
       " '38. Saint Charles Church',\n",
       " '39. Marché de la Condamine',\n",
       " '40. Le Nouveau Musee National',\n",
       " '41. Gare De Monaco Monte-Carlo',\n",
       " '42. Palais de justice de Monaco',\n",
       " '43. Sun Casino',\n",
       " '44. Stamps and Money Museum',\n",
       " '45. New National Museum of Monaco',\n",
       " '46. Zoological Gardens',\n",
       " '47. Hector Berlioz Statue',\n",
       " '48. Fort Antoine Theater',\n",
       " '49. Musee D’Anthropologie Prehistorique',\n",
       " '50. Grimaldi Statue',\n",
       " '51. Apotheosa Monaca',\n",
       " \"52. L'Orangerie\",\n",
       " '53. Princess Grace Irish Library',\n",
       " \"54. Jimmy'z\",\n",
       " '55. Hommage des Colonies Etrangeres Statue',\n",
       " '56. Statue of William Grover-Williams',\n",
       " '57. Theatre des Muses',\n",
       " '58. Chapelle De La Miséricorde',\n",
       " '59. Thermes Marins Monte-Carlo',\n",
       " '60. Hymne à la vie']"
      ]
     },
     "execution_count": 47,
     "metadata": {},
     "output_type": "execute_result"
    }
   ],
   "source": []
  }
 ],
 "metadata": {
  "kernelspec": {
   "display_name": "Hackio_Proyecto_Semana_3",
   "language": "python",
   "name": "python3"
  },
  "language_info": {
   "codemirror_mode": {
    "name": "ipython",
    "version": 3
   },
   "file_extension": ".py",
   "mimetype": "text/x-python",
   "name": "python",
   "nbconvert_exporter": "python",
   "pygments_lexer": "ipython3",
   "version": "3.11.9"
  }
 },
 "nbformat": 4,
 "nbformat_minor": 2
}
