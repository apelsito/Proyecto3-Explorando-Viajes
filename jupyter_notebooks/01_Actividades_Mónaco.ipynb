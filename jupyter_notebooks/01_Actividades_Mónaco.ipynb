{
 "cells": [
  {
   "cell_type": "markdown",
   "metadata": {},
   "source": [
    "# Actividades Mónaco\n",
    "El objetivo es crear una tabla con varias actividades de mónaco, vamos a intentarlo con esta url:\n",
    "- https://www.tripadvisor.es/Attractions-g190405-Activities-oa0-Monaco.html\n"
   ]
  },
  {
   "cell_type": "code",
   "execution_count": 1,
   "metadata": {},
   "outputs": [],
   "source": [
    "# Librerías para extracción y scraping de datos\n",
    "# -----------------------------------------------------------------------\n",
    "from bs4 import BeautifulSoup  # Para analizar y extraer datos de HTML y XML\n",
    "import requests                # Para hacer solicitudes HTTP y obtener datos de páginas web\n",
    "import tqdm                    # Para mostrar barras de progreso en bucles largos\n",
    "\n",
    "# Librerías para el tratamiento y manipulación de datos\n",
    "# -----------------------------------------------------------------------\n",
    "import pandas as pd             # Para trabajar con estructuras de datos como DataFrames y manipulación de grandes datasets\n",
    "import numpy as np              # Para realizar cálculos numéricos y trabajar con arrays multidimensionales\n",
    "import datetime                 # Para manipular fechas y horas de manera eficiente\n",
    "\n",
    "# Manejo de tiempo y solicitudes con espera\n",
    "# -----------------------------------------------------------------------\n",
    "from time import sleep          # Para pausar la ejecución del código por un tiempo determinado\n",
    "import random                   # Para generar valores aleatorios, útil para espaciar solicitudes y evitar bloqueos\n",
    "import requests                 # Repetido (puedes eliminar este segundo import de requests)\n"
   ]
  },
  {
   "cell_type": "code",
   "execution_count": 3,
   "metadata": {},
   "outputs": [],
   "source": [
    "headers = {\n",
    "        # Decirle al server lenguaje español\n",
    "        'accept-language': 'es', \n",
    "        # Simulamos que somos el navegador Chrome\n",
    "        'User-Agent': 'Mozilla/5.0 (Windows NT 10.0; Win64; x64) AppleWebKit/537.36 (KHTML, like Gecko) Chrome/95.0.4638.69 Safari/537.36'\n",
    "        }\n",
    "url_tripadvisor = \"https://www.tripadvisor.es/Attractions-g190405-Activities-oa0-Monaco.html\"\n",
    "\n",
    "res_tripadvisor = requests.get(url_tripadvisor,headers=headers,timeout=5)\n",
    "sopa_actividades_temp = BeautifulSoup(res_tripadvisor.content, \"html.parser\")"
   ]
  },
  {
   "cell_type": "code",
   "execution_count": 23,
   "metadata": {},
   "outputs": [],
   "source": [
    "headers = {\n",
    "        # Decirle al server lenguaje español\n",
    "        'accept-language': 'es', \n",
    "        # Simulamos que somos el navegador Chrome\n",
    "        'User-Agent': 'Mozilla/5.0 (Windows NT 10.0; Win64; x64) AppleWebKit/537.36 (KHTML, like Gecko) Chrome/95.0.4638.69 Safari/537.36'\n",
    "        }\n",
    "url_tripadvisor2 = \"https://www.tripadvisor.es/Attractions-g190405-Activities-oa30-Monaco.html\"\n",
    "res_tripadvisor2 = requests.get(url_tripadvisor2,headers=headers,timeout=5)\n",
    "sopa_actividades_temp2 = BeautifulSoup(res_tripadvisor2.content, \"html.parser\")"
   ]
  },
  {
   "cell_type": "markdown",
   "metadata": {},
   "source": [
    "# Guardamos la página para no saturar los servicios"
   ]
  },
  {
   "cell_type": "markdown",
   "metadata": {},
   "source": [
    "with open(\"../datos/html_backups/actividades_tripadvisor_monaco_pg1.html\", \"w\", encoding=\"utf-8\") as file:\n",
    "    file.write(str(sopa_actividades_temp))\n"
   ]
  },
  {
   "cell_type": "markdown",
   "metadata": {},
   "source": [
    "with open(\"../datos/html_backups/actividades_tripadvisor_monaco_pg2.html\", \"w\", encoding=\"utf-8\") as file:\n",
    "    file.write(str(sopa_actividades_temp2))"
   ]
  },
  {
   "cell_type": "markdown",
   "metadata": {},
   "source": [
    "# A partir de ahora abro los HTML desde aquí, pues no queremos saturar TripAdvisor\n",
    "Poner esto en el readme\n",
    "\n",
    "ACUERDATEEEEE"
   ]
  },
  {
   "cell_type": "code",
   "execution_count": 27,
   "metadata": {},
   "outputs": [],
   "source": [
    "# Abre el archivo HTML guardado\n",
    "with open(\"../datos/html_backups/actividades_tripadvisor_monaco_pg1.html\", \"r\", encoding=\"utf-8\") as file:\n",
    "    pagina1 = file.read()\n",
    "with open(\"../datos/html_backups/actividades_tripadvisor_monaco_pg2.html\", \"r\", encoding=\"utf-8\") as file:\n",
    "    pagina2 = file.read()\n",
    "#Lo volvemos a convertir en sopa\n",
    "sopa_actividades_pg1 = BeautifulSoup(pagina1, \"html.parser\")\n",
    "sopa_actividades_pg2 = BeautifulSoup(pagina2, \"html.parser\")\n",
    "# Esto pone el HTML legible\n",
    "#print(sopa_actividades.prettify())  \n"
   ]
  },
  {
   "cell_type": "code",
   "execution_count": 28,
   "metadata": {},
   "outputs": [],
   "source": [
    "\n",
    "nombre_actividades_pg1 = sopa_actividades_pg1.find_all(\"div\",{\"class\":\"XfVdV o AIbhI\"})\n",
    "nombre_actividades_pg2 = sopa_actividades_pg2.find_all(\"div\",{\"class\":\"XfVdV o AIbhI\"})\n",
    "\n",
    "rating_actividades_pg1 = sopa_actividades_pg1.find_all(\"div\",{\"class\":\"jVDab W f u w JqMhy\"})\n",
    "rating_actividades_pg2 = sopa_actividades_pg1.find_all(\"div\",{\"class\":\"jVDab W f u w JqMhy\"})\n",
    "\n",
    "url_actividades_pg1 = sopa_actividades_pg1.find_all(\"a\",{\"class\":\"BUupS _R w _Z y M0 B0 Gm wSSLS\"})\n",
    "url_actividades_pg2 = sopa_actividades_pg2.find_all(\"a\",{\"class\":\"BUupS _R w _Z y M0 B0 Gm wSSLS\"})\n",
    "\n"
   ]
  },
  {
   "cell_type": "markdown",
   "metadata": {},
   "source": [
    "cogemos todo de cada página"
   ]
  },
  {
   "cell_type": "code",
   "execution_count": 29,
   "metadata": {},
   "outputs": [],
   "source": [
    "#Nombre Actividad\n",
    "nombre_pg1 = [nombre.getText() for nombre in nombre_actividades_pg1]\n",
    "nombre_pg2 = [nombre.getText() for nombre in nombre_actividades_pg2]"
   ]
  },
  {
   "cell_type": "code",
   "execution_count": 30,
   "metadata": {},
   "outputs": [],
   "source": [
    "#Valoración de la actividad\n",
    "rating_pg1 = [rating.contents[0].getText() for rating in rating_actividades_pg1]\n",
    "rating_pg2 = [rating.contents[0].getText() for rating in rating_actividades_pg2]"
   ]
  },
  {
   "cell_type": "code",
   "execution_count": 31,
   "metadata": {},
   "outputs": [],
   "source": [
    "#url a la actividad, la usaremos para luego obtener horario y precio (si hubiera)\n",
    "url_pg1 = [f\"https://www.tripadvisor.es/{url.get('href')}\" for url in url_actividades_pg1]\n",
    "url_pg2 = [f\"https://www.tripadvisor.es/{url.get('href')}\" for url in url_actividades_pg2]"
   ]
  },
  {
   "cell_type": "markdown",
   "metadata": {},
   "source": [
    "Obtener lista unificadas de nombres"
   ]
  },
  {
   "cell_type": "code",
   "execution_count": 32,
   "metadata": {},
   "outputs": [],
   "source": [
    "for i in range(0,len(nombre_pg2)):\n",
    "   nombre_pg1.append(nombre_pg2[i])\n",
    "\n",
    "actividad = nombre_pg1\n",
    "#Sacamos las numeraciones para dejar el número\n",
    "for i in range(0, len(actividad)):\n",
    "    actividad[i] = actividad[i].replace(f\"{i+1}. \", \"\")  # Reasignar el valor tras el reemplazo\n"
   ]
  },
  {
   "cell_type": "markdown",
   "metadata": {},
   "source": [
    "Obtener lista unificadas de ratings"
   ]
  },
  {
   "cell_type": "code",
   "execution_count": 33,
   "metadata": {},
   "outputs": [],
   "source": [
    "for i in range(0,len(rating_pg2)):\n",
    "    rating_pg1.append(rating_pg2[i])\n",
    "\n",
    "calificacion = rating_pg1\n",
    "#Sacamos los ratings y les damos formato\n",
    "for i in range(0, len(calificacion)):\n",
    "    calificacion[i] = calificacion[i].split()[0].replace(\",\",\".\")\n"
   ]
  },
  {
   "cell_type": "markdown",
   "metadata": {},
   "source": [
    "Obtener las URLs"
   ]
  },
  {
   "cell_type": "code",
   "execution_count": 34,
   "metadata": {},
   "outputs": [],
   "source": [
    "for i in range(0,len(url_pg2)):\n",
    "    url_pg1.append(url_pg2[i])\n",
    "\n",
    "hipervinculos = url_pg1"
   ]
  },
  {
   "cell_type": "code",
   "execution_count": 35,
   "metadata": {},
   "outputs": [],
   "source": [
    "df = pd.DataFrame({\n",
    "    \"Actividad\": actividad,\n",
    "    \"Calificación\":calificacion,\n",
    "    \"URL\":hipervinculos\n",
    "})"
   ]
  },
  {
   "cell_type": "code",
   "execution_count": 36,
   "metadata": {},
   "outputs": [
    {
     "data": {
      "text/html": [
       "<div>\n",
       "<style scoped>\n",
       "    .dataframe tbody tr th:only-of-type {\n",
       "        vertical-align: middle;\n",
       "    }\n",
       "\n",
       "    .dataframe tbody tr th {\n",
       "        vertical-align: top;\n",
       "    }\n",
       "\n",
       "    .dataframe thead th {\n",
       "        text-align: right;\n",
       "    }\n",
       "</style>\n",
       "<table border=\"1\" class=\"dataframe\">\n",
       "  <thead>\n",
       "    <tr style=\"text-align: right;\">\n",
       "      <th></th>\n",
       "      <th>Actividad</th>\n",
       "      <th>Calificación</th>\n",
       "      <th>URL</th>\n",
       "    </tr>\n",
       "  </thead>\n",
       "  <tbody>\n",
       "    <tr>\n",
       "      <th>0</th>\n",
       "      <td>Oceanographic Museum of Monaco</td>\n",
       "      <td>4.5</td>\n",
       "      <td>https://www.tripadvisor.es//Attraction_Review-...</td>\n",
       "    </tr>\n",
       "    <tr>\n",
       "      <th>1</th>\n",
       "      <td>Casino of Monte-Carlo</td>\n",
       "      <td>4.0</td>\n",
       "      <td>https://www.tripadvisor.es//Attraction_Review-...</td>\n",
       "    </tr>\n",
       "    <tr>\n",
       "      <th>2</th>\n",
       "      <td>The Private Collection of Antique Cars of H.S....</td>\n",
       "      <td>4.5</td>\n",
       "      <td>https://www.tripadvisor.es//Attraction_Review-...</td>\n",
       "    </tr>\n",
       "    <tr>\n",
       "      <th>3</th>\n",
       "      <td>Monte Carlo Harbor</td>\n",
       "      <td>4.5</td>\n",
       "      <td>https://www.tripadvisor.es//Attraction_Review-...</td>\n",
       "    </tr>\n",
       "    <tr>\n",
       "      <th>4</th>\n",
       "      <td>Prince's Palace of Monaco</td>\n",
       "      <td>4.0</td>\n",
       "      <td>https://www.tripadvisor.es//Attraction_Review-...</td>\n",
       "    </tr>\n",
       "  </tbody>\n",
       "</table>\n",
       "</div>"
      ],
      "text/plain": [
       "                                           Actividad Calificación  \\\n",
       "0                     Oceanographic Museum of Monaco          4.5   \n",
       "1                              Casino of Monte-Carlo          4.0   \n",
       "2  The Private Collection of Antique Cars of H.S....          4.5   \n",
       "3                                 Monte Carlo Harbor          4.5   \n",
       "4                          Prince's Palace of Monaco          4.0   \n",
       "\n",
       "                                                 URL  \n",
       "0  https://www.tripadvisor.es//Attraction_Review-...  \n",
       "1  https://www.tripadvisor.es//Attraction_Review-...  \n",
       "2  https://www.tripadvisor.es//Attraction_Review-...  \n",
       "3  https://www.tripadvisor.es//Attraction_Review-...  \n",
       "4  https://www.tripadvisor.es//Attraction_Review-...  "
      ]
     },
     "execution_count": 36,
     "metadata": {},
     "output_type": "execute_result"
    }
   ],
   "source": [
    "df.head()"
   ]
  },
  {
   "cell_type": "code",
   "execution_count": 37,
   "metadata": {},
   "outputs": [],
   "source": [
    "df[\"Calificación\"] = df[\"Calificación\"].astype(float)"
   ]
  },
  {
   "cell_type": "code",
   "execution_count": 38,
   "metadata": {},
   "outputs": [],
   "source": [
    "df.to_csv(\"../datos/actividades_mónaco.csv\")"
   ]
  },
  {
   "cell_type": "code",
   "execution_count": 39,
   "metadata": {},
   "outputs": [
    {
     "name": "stdout",
     "output_type": "stream",
     "text": [
      "<class 'pandas.core.frame.DataFrame'>\n",
      "RangeIndex: 60 entries, 0 to 59\n",
      "Data columns (total 3 columns):\n",
      " #   Column        Non-Null Count  Dtype  \n",
      "---  ------        --------------  -----  \n",
      " 0   Actividad     60 non-null     object \n",
      " 1   Calificación  60 non-null     float64\n",
      " 2   URL           60 non-null     object \n",
      "dtypes: float64(1), object(2)\n",
      "memory usage: 1.5+ KB\n"
     ]
    }
   ],
   "source": [
    "df.info()"
   ]
  }
 ],
 "metadata": {
  "kernelspec": {
   "display_name": "Hackio_Proyecto_Semana_3",
   "language": "python",
   "name": "python3"
  },
  "language_info": {
   "codemirror_mode": {
    "name": "ipython",
    "version": 3
   },
   "file_extension": ".py",
   "mimetype": "text/x-python",
   "name": "python",
   "nbconvert_exporter": "python",
   "pygments_lexer": "ipython3",
   "version": "3.11.9"
  }
 },
 "nbformat": 4,
 "nbformat_minor": 2
}
