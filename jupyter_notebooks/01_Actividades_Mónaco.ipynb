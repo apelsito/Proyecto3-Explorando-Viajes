{
 "cells": [
  {
   "cell_type": "markdown",
   "metadata": {},
   "source": [
    "# Actividades Mónaco\n",
    "El objetivo es crear una tabla con varias actividades de mónaco, vamos a intentarlo con esta url:\n",
    "- https://www.tripadvisor.es/Attractions-g190405-Activities-oa0-Monaco.html\n"
   ]
  },
  {
   "cell_type": "code",
   "execution_count": 2,
   "metadata": {},
   "outputs": [],
   "source": [
    "# Importamos las librerías que necesitamos\n",
    "\n",
    "# Librerías de extracción de datos\n",
    "# -----------------------------------------------------------------------\n",
    "from bs4 import BeautifulSoup\n",
    "import requests\n",
    "import tqdm\n",
    "# Tratamiento de datos\n",
    "# -----------------------------------------------------------------------\n",
    "import pandas as pd\n",
    "import numpy as np\n",
    "import datetime\n"
   ]
  },
  {
   "cell_type": "code",
   "execution_count": 3,
   "metadata": {},
   "outputs": [],
   "source": [
    "headers = {\n",
    "        # Decirle al server lenguaje español\n",
    "        'accept-language': 'es', \n",
    "        # Simulamos que somos el navegador Chrome\n",
    "        'User-Agent': 'Mozilla/5.0 (Windows NT 10.0; Win64; x64) AppleWebKit/537.36 (KHTML, like Gecko) Chrome/95.0.4638.69 Safari/537.36'\n",
    "        }\n",
    "url_tripadvisor = \"https://www.tripadvisor.es/Attractions-g190405-Activities-oa0-Monaco.html\"\n",
    "\n",
    "res_tripadvisor = requests.get(url_tripadvisor,headers=headers,timeout=5)\n",
    "sopa_actividades_temp = BeautifulSoup(res_tripadvisor.content, \"html.parser\")"
   ]
  },
  {
   "cell_type": "code",
   "execution_count": 23,
   "metadata": {},
   "outputs": [],
   "source": [
    "headers = {\n",
    "        # Decirle al server lenguaje español\n",
    "        'accept-language': 'es', \n",
    "        # Simulamos que somos el navegador Chrome\n",
    "        'User-Agent': 'Mozilla/5.0 (Windows NT 10.0; Win64; x64) AppleWebKit/537.36 (KHTML, like Gecko) Chrome/95.0.4638.69 Safari/537.36'\n",
    "        }\n",
    "url_tripadvisor2 = \"https://www.tripadvisor.es/Attractions-g190405-Activities-oa30-Monaco.html\"\n",
    "res_tripadvisor2 = requests.get(url_tripadvisor2,headers=headers,timeout=5)\n",
    "sopa_actividades_temp2 = BeautifulSoup(res_tripadvisor2.content, \"html.parser\")"
   ]
  },
  {
   "cell_type": "markdown",
   "metadata": {},
   "source": [
    "# Guardamos la página para no saturar los servicios"
   ]
  },
  {
   "cell_type": "markdown",
   "metadata": {},
   "source": [
    "with open(\"../datos/html_backups/actividades_tripadvisor_pg1.html\", \"w\", encoding=\"utf-8\") as file:\n",
    "    file.write(str(sopa_actividades_temp))\n"
   ]
  },
  {
   "cell_type": "markdown",
   "metadata": {},
   "source": [
    "with open(\"../datos/html_backups/actividades_tripadvisor_pg2.html\", \"w\", encoding=\"utf-8\") as file:\n",
    "    file.write(str(sopa_actividades_temp2))"
   ]
  },
  {
   "cell_type": "markdown",
   "metadata": {},
   "source": [
    "# A partir de ahora abro los HTML desde aquí, pues no queremos saturar TripAdvisor\n",
    "Poner esto en el readme\n",
    "\n",
    "ACUERDATEEEEE"
   ]
  },
  {
   "cell_type": "code",
   "execution_count": 127,
   "metadata": {},
   "outputs": [],
   "source": [
    "# Abre el archivo HTML guardado\n",
    "with open(\"../datos/html_backups/actividades_tripadvisor_pg1.html\", \"r\", encoding=\"utf-8\") as file:\n",
    "    pagina1 = file.read()\n",
    "with open(\"../datos/html_backups/actividades_tripadvisor_pg2.html\", \"r\", encoding=\"utf-8\") as file:\n",
    "    pagina2 = file.read()\n",
    "#Lo volvemos a convertir en sopa\n",
    "sopa_actividades_pg1 = BeautifulSoup(pagina1, \"html.parser\")\n",
    "sopa_actividades_pg2 = BeautifulSoup(pagina2, \"html.parser\")\n",
    "# Esto pone el HTML legible\n",
    "#print(sopa_actividades.prettify())  \n"
   ]
  },
  {
   "cell_type": "code",
   "execution_count": 178,
   "metadata": {},
   "outputs": [],
   "source": [
    "\n",
    "nombre_actividades_pg1 = sopa_actividades_pg1.find_all(\"div\",{\"class\":\"XfVdV o AIbhI\"})\n",
    "nombre_actividades_pg2 = sopa_actividades_pg2.find_all(\"div\",{\"class\":\"XfVdV o AIbhI\"})\n",
    "\n",
    "rating_actividades_pg1 = sopa_actividades_pg1.find_all(\"div\",{\"class\":\"jVDab W f u w JqMhy\"})\n",
    "rating_actividades_pg2 = sopa_actividades_pg1.find_all(\"div\",{\"class\":\"jVDab W f u w JqMhy\"})\n",
    "\n",
    "img_actividades_pg1 = sopa_actividades_pg1.find_all(\"a\",{\"class\":\"BUupS _R w _Z y M0 B0 Gm wSSLS\"})\n",
    "img_actividades_pg2 = sopa_actividades_pg2.find_all(\"a\",{\"class\":\"BUupS _R w _Z y M0 B0 Gm wSSLS\"})\n",
    "\n"
   ]
  },
  {
   "cell_type": "markdown",
   "metadata": {},
   "source": [
    "cogemos todo de cada página"
   ]
  },
  {
   "cell_type": "code",
   "execution_count": 129,
   "metadata": {},
   "outputs": [],
   "source": [
    "#Nombre Actividad\n",
    "nombre_pg1 = [nombre.getText() for nombre in nombre_actividades_pg1]\n",
    "nombre_pg2 = [nombre.getText() for nombre in nombre_actividades_pg2]"
   ]
  },
  {
   "cell_type": "code",
   "execution_count": 130,
   "metadata": {},
   "outputs": [],
   "source": [
    "#Valoración de la actividad\n",
    "rating_pg1 = [rating.contents[0].getText() for rating in rating_actividades_pg1]\n",
    "rating_pg2 = [rating.contents[0].getText() for rating in rating_actividades_pg2]"
   ]
  },
  {
   "cell_type": "code",
   "execution_count": null,
   "metadata": {},
   "outputs": [],
   "source": [
    "#url a la actividad\n",
    "rating_pg1 = [rating.contents[0].getText() for rating in rating_actividades_pg1]\n",
    "rating_pg2 = [rating.contents[0].getText() for rating in rating_actividades_pg2]"
   ]
  },
  {
   "cell_type": "code",
   "execution_count": 181,
   "metadata": {},
   "outputs": [
    {
     "data": {
      "text/plain": [
       "'/Attraction_Review-g190409-d195271-Reviews-Oceanographic_Museum_of_Monaco-Monte_Carlo.html'"
      ]
     },
     "execution_count": 181,
     "metadata": {},
     "output_type": "execute_result"
    }
   ],
   "source": [
    "img_actividades_pg1[0].get('href')"
   ]
  },
  {
   "cell_type": "markdown",
   "metadata": {},
   "source": [
    "Obtener lista unificadas de nombres"
   ]
  },
  {
   "cell_type": "code",
   "execution_count": 131,
   "metadata": {},
   "outputs": [],
   "source": [
    "for i in range(0,len(nombre_pg2)):\n",
    "   nombre_pg1.append(nombre_pg2[i])\n",
    "\n",
    "actividad = nombre_pg1"
   ]
  },
  {
   "cell_type": "markdown",
   "metadata": {},
   "source": [
    "Obtener lista unificadas de ratings"
   ]
  },
  {
   "cell_type": "code",
   "execution_count": 132,
   "metadata": {},
   "outputs": [],
   "source": [
    "for i in range(0,len(rating_pg2)):\n",
    "    rating_pg1.append(rating_pg2[i])\n",
    "\n",
    "calificacion = rating_pg1"
   ]
  },
  {
   "cell_type": "markdown",
   "metadata": {},
   "source": []
  },
  {
   "cell_type": "code",
   "execution_count": null,
   "metadata": {},
   "outputs": [],
   "source": []
  }
 ],
 "metadata": {
  "kernelspec": {
   "display_name": "Hackio_Proyecto_Semana_3",
   "language": "python",
   "name": "python3"
  },
  "language_info": {
   "codemirror_mode": {
    "name": "ipython",
    "version": 3
   },
   "file_extension": ".py",
   "mimetype": "text/x-python",
   "name": "python",
   "nbconvert_exporter": "python",
   "pygments_lexer": "ipython3",
   "version": "3.11.9"
  }
 },
 "nbformat": 4,
 "nbformat_minor": 2
}
