{
 "cells": [
  {
   "cell_type": "code",
   "execution_count": 2,
   "metadata": {},
   "outputs": [],
   "source": [
    "# Importamos las librerías que necesitamos\n",
    "\n",
    "# Librerías para automatización de navegadores (Selenium)\n",
    "# -----------------------------------------------------------------------\n",
    "from selenium import webdriver                   # Control automático del navegador\n",
    "from selenium.webdriver.chrome.service import Service  # Maneja el servicio de ChromeDriver\n",
    "from selenium.webdriver.common.by import By      # Para seleccionar elementos en la página web (DOM)\n",
    "from selenium.webdriver.chrome.options import Options  # Para configurar opciones del navegador (como headless mode)\n",
    "import time                                      # Para manejar pausas y temporización\n",
    "\n",
    "# Librerías para extracción y scraping de datos\n",
    "# -----------------------------------------------------------------------\n",
    "from bs4 import BeautifulSoup  # Librería para extraer y analizar datos de HTML y XML\n",
    "import requests                # Para realizar solicitudes HTTP y obtener datos de sitios web\n",
    "import tqdm                    # Para mostrar barras de progreso en bucles largos\n",
    "\n",
    "# Librerías para tratamiento y manipulación de datos\n",
    "# -----------------------------------------------------------------------\n",
    "import pandas as pd             # Para manipulación de estructuras de datos como DataFrames\n",
    "import numpy as np              # Para cálculos numéricos y operaciones sobre arrays\n",
    "import datetime                 # Para manipulación de fechas y horas\n",
    "\n",
    "# Manejo del tiempo y generación de pausas\n",
    "# -----------------------------------------------------------------------\n",
    "from time import sleep          # Pausar la ejecución del código durante un intervalo de tiempo\n",
    "import random                   # Generar valores aleatorios, útil para espaciar solicitudes en scraping\n",
    "\n",
    "# Importar desde rutas recursivas\n",
    "# -----------------------------------------------------------------------\n",
    "import sys\n",
    "sys.path.append(\"../\")  # Añadir rutas externas para poder importar módulos\n",
    "from src.SupportAlojamientos import obtain_html, make_df  # Funciones personalizadas de apoyo\n",
    "\n",
    "# Control de advertencias\n",
    "# -----------------------------------------------------------------------\n",
    "import warnings\n",
    "warnings.filterwarnings('ignore')  # Ignorar advertencias para una salida limpia\n",
    "\n",
    "# Librerías para visualización de datos\n",
    "# -----------------------------------------------------------------------\n",
    "import matplotlib.pyplot as plt     # Para crear gráficos y visualizaciones\n",
    "import seaborn as sns               # Para visualizaciones estadísticas avanzadas\n"
   ]
  },
  {
   "cell_type": "markdown",
   "metadata": {},
   "source": [
    "# Vamos a buscar los apartamentos para todas las fechas de los vuelos\n",
    "\n",
    "Usando BeautifulSoup y requests, nos vamos a guardar las urls y para que no nos bloqueen, lo guardaremos en un HTML\n",
    "URLs:\n",
    "\n",
    "1er Finde\n",
    "- https://www.airbnb.es/s/Oslo--Noruega/homes?tab_id=home_tab&refinement_paths%5B%5D=%2Fhomes&flexible_trip_lengths%5B%5D=one_week&monthly_start_date=2024-11-01&monthly_length=3&monthly_end_date=2025-02-01&price_filter_input_type=0&channel=EXPLORE&query=Oslo%2C%20Noruega&date_picker_type=calendar&checkin=2024-10-24&checkout=2024-10-27&adults=4&source=structured_search_input_header&search_type=autocomplete_click&price_filter_num_nights=3&room_types%5B%5D=Entire%20home%2Fapt&amenities%5B%5D=4&amenities%5B%5D=8&place_id=ChIJOfBn8mFuQUYRmh4j019gkn4&location_bb=Qm%2FpgkEvKaJCbz0bQSn2Cw%3D%3D\n",
    "\n",
    "2do Finde\n",
    "- https://www.airbnb.es/s/Oslo--Noruega/homes?tab_id=home_tab&refinement_paths%5B%5D=%2Fhomes&flexible_trip_lengths%5B%5D=one_week&monthly_start_date=2024-11-01&monthly_length=3&monthly_end_date=2025-02-01&price_filter_input_type=0&channel=EXPLORE&query=Oslo%2C%20Noruega&date_picker_type=calendar&checkin=2024-10-31&checkout=2024-11-03&adults=4&source=structured_search_input_header&search_type=autocomplete_click&price_filter_num_nights=3&room_types%5B%5D=Entire%20home%2Fapt&amenities%5B%5D=4&amenities%5B%5D=8&place_id=ChIJOfBn8mFuQUYRmh4j019gkn4&location_bb=Qm%2FpgkEvKaJCbz0bQSn2Cw%3D%3D\n",
    "\n",
    "3er Finde\n",
    "- https://www.airbnb.es/s/Oslo--Noruega/homes?tab_id=home_tab&refinement_paths%5B%5D=%2Fhomes&flexible_trip_lengths%5B%5D=one_week&monthly_start_date=2024-11-01&monthly_length=3&monthly_end_date=2025-02-01&price_filter_input_type=0&channel=EXPLORE&query=Oslo%2C%20Noruega&date_picker_type=calendar&checkin=2024-11-07&checkout=2024-11-10&adults=4&source=structured_search_input_header&search_type=autocomplete_click&price_filter_num_nights=3&room_types%5B%5D=Entire%20home%2Fapt&amenities%5B%5D=4&amenities%5B%5D=8&place_id=ChIJOfBn8mFuQUYRmh4j019gkn4&location_bb=Qm%2FpgkEvKaJCbz0bQSn2Cw%3D%3D\n",
    "\n",
    "4to Finde\n",
    "- https://www.airbnb.es/s/Oslo--Noruega/homes?tab_id=home_tab&refinement_paths%5B%5D=%2Fhomes&flexible_trip_lengths%5B%5D=one_week&monthly_start_date=2024-11-01&monthly_length=3&monthly_end_date=2025-02-01&price_filter_input_type=0&channel=EXPLORE&query=Oslo%2C%20Noruega&date_picker_type=calendar&checkin=2024-11-14&checkout=2024-11-17&adults=4&source=structured_search_input_header&search_type=autocomplete_click&price_filter_num_nights=3&room_types%5B%5D=Entire%20home%2Fapt&amenities%5B%5D=4&amenities%5B%5D=8&place_id=ChIJOfBn8mFuQUYRmh4j019gkn4&location_bb=Qm%2FpgkEvKaJCbz0bQSn2Cw%3D%3D\n",
    "\n",
    "5to Finde\n",
    "- https://www.airbnb.es/s/Oslo--Noruega/homes?tab_id=home_tab&refinement_paths%5B%5D=%2Fhomes&flexible_trip_lengths%5B%5D=one_week&monthly_start_date=2024-11-01&monthly_length=3&monthly_end_date=2025-02-01&price_filter_input_type=0&channel=EXPLORE&query=Oslo%2C%20Noruega&date_picker_type=calendar&checkin=2024-11-21&checkout=2024-11-24&adults=4&source=structured_search_input_header&search_type=autocomplete_click&price_filter_num_nights=3&room_types%5B%5D=Entire%20home%2Fapt&amenities%5B%5D=4&amenities%5B%5D=8&place_id=ChIJOfBn8mFuQUYRmh4j019gkn4&location_bb=Qm%2FpgkEvKaJCbz0bQSn2Cw%3D%3D\n",
    "\n",
    "6to Finde\n",
    "- https://www.airbnb.es/s/Oslo--Noruega/homes?tab_id=home_tab&refinement_paths%5B%5D=%2Fhomes&flexible_trip_lengths%5B%5D=one_week&monthly_start_date=2024-11-01&monthly_length=3&monthly_end_date=2025-02-01&price_filter_input_type=0&channel=EXPLORE&query=Oslo%2C%20Noruega&date_picker_type=calendar&checkin=2024-11-28&checkout=2024-12-01&adults=4&source=structured_search_input_header&search_type=autocomplete_click&price_filter_num_nights=3&room_types%5B%5D=Entire%20home%2Fapt&amenities%5B%5D=4&amenities%5B%5D=8&place_id=ChIJOfBn8mFuQUYRmh4j019gkn4&location_bb=Qm%2FpgkEvKaJCbz0bQSn2Cw%3D%3D\n",
    "\n"
   ]
  },
  {
   "cell_type": "code",
   "execution_count": 3,
   "metadata": {},
   "outputs": [],
   "source": [
    "urls_airbnb = [\"https://www.airbnb.es/s/Oslo--Noruega/homes?tab_id=home_tab&refinement_paths%5B%5D=%2Fhomes&flexible_trip_lengths%5B%5D=one_week&monthly_start_date=2024-11-01&monthly_length=3&monthly_end_date=2025-02-01&price_filter_input_type=0&channel=EXPLORE&query=Oslo%2C%20Noruega&date_picker_type=calendar&checkin=2024-10-24&checkout=2024-10-27&adults=4&source=structured_search_input_header&search_type=autocomplete_click&price_filter_num_nights=3&room_types%5B%5D=Entire%20home%2Fapt&amenities%5B%5D=4&amenities%5B%5D=8&place_id=ChIJOfBn8mFuQUYRmh4j019gkn4&location_bb=Qm%2FpgkEvKaJCbz0bQSn2Cw%3D%3D\",\n",
    "               \"https://www.airbnb.es/s/Oslo--Noruega/homes?tab_id=home_tab&refinement_paths%5B%5D=%2Fhomes&flexible_trip_lengths%5B%5D=one_week&monthly_start_date=2024-11-01&monthly_length=3&monthly_end_date=2025-02-01&price_filter_input_type=0&channel=EXPLORE&query=Oslo%2C%20Noruega&date_picker_type=calendar&checkin=2024-10-31&checkout=2024-11-03&adults=4&source=structured_search_input_header&search_type=autocomplete_click&price_filter_num_nights=3&room_types%5B%5D=Entire%20home%2Fapt&amenities%5B%5D=4&amenities%5B%5D=8&place_id=ChIJOfBn8mFuQUYRmh4j019gkn4&location_bb=Qm%2FpgkEvKaJCbz0bQSn2Cw%3D%3D\",\n",
    "               \"https://www.airbnb.es/s/Oslo--Noruega/homes?tab_id=home_tab&refinement_paths%5B%5D=%2Fhomes&flexible_trip_lengths%5B%5D=one_week&monthly_start_date=2024-11-01&monthly_length=3&monthly_end_date=2025-02-01&price_filter_input_type=0&channel=EXPLORE&query=Oslo%2C%20Noruega&date_picker_type=calendar&checkin=2024-11-07&checkout=2024-11-10&adults=4&source=structured_search_input_header&search_type=autocomplete_click&price_filter_num_nights=3&room_types%5B%5D=Entire%20home%2Fapt&amenities%5B%5D=4&amenities%5B%5D=8&place_id=ChIJOfBn8mFuQUYRmh4j019gkn4&location_bb=Qm%2FpgkEvKaJCbz0bQSn2Cw%3D%3D\",\n",
    "               \"https://www.airbnb.es/s/Oslo--Noruega/homes?tab_id=home_tab&refinement_paths%5B%5D=%2Fhomes&flexible_trip_lengths%5B%5D=one_week&monthly_start_date=2024-11-01&monthly_length=3&monthly_end_date=2025-02-01&price_filter_input_type=0&channel=EXPLORE&query=Oslo%2C%20Noruega&date_picker_type=calendar&checkin=2024-11-14&checkout=2024-11-17&adults=4&source=structured_search_input_header&search_type=autocomplete_click&price_filter_num_nights=3&room_types%5B%5D=Entire%20home%2Fapt&amenities%5B%5D=4&amenities%5B%5D=8&place_id=ChIJOfBn8mFuQUYRmh4j019gkn4&location_bb=Qm%2FpgkEvKaJCbz0bQSn2Cw%3D%3D\",\n",
    "               \"https://www.airbnb.es/s/Oslo--Noruega/homes?tab_id=home_tab&refinement_paths%5B%5D=%2Fhomes&flexible_trip_lengths%5B%5D=one_week&monthly_start_date=2024-11-01&monthly_length=3&monthly_end_date=2025-02-01&price_filter_input_type=0&channel=EXPLORE&query=Oslo%2C%20Noruega&date_picker_type=calendar&checkin=2024-11-21&checkout=2024-11-24&adults=4&source=structured_search_input_header&search_type=autocomplete_click&price_filter_num_nights=3&room_types%5B%5D=Entire%20home%2Fapt&amenities%5B%5D=4&amenities%5B%5D=8&place_id=ChIJOfBn8mFuQUYRmh4j019gkn4&location_bb=Qm%2FpgkEvKaJCbz0bQSn2Cw%3D%3D\",\n",
    "               \"https://www.airbnb.es/s/Oslo--Noruega/homes?tab_id=home_tab&refinement_paths%5B%5D=%2Fhomes&flexible_trip_lengths%5B%5D=one_week&monthly_start_date=2024-11-01&monthly_length=3&monthly_end_date=2025-02-01&price_filter_input_type=0&channel=EXPLORE&query=Oslo%2C%20Noruega&date_picker_type=calendar&checkin=2024-11-28&checkout=2024-12-01&adults=4&source=structured_search_input_header&search_type=autocomplete_click&price_filter_num_nights=3&room_types%5B%5D=Entire%20home%2Fapt&amenities%5B%5D=4&amenities%5B%5D=8&place_id=ChIJOfBn8mFuQUYRmh4j019gkn4&location_bb=Qm%2FpgkEvKaJCbz0bQSn2Cw%3D%3D\"\n",
    "               ]\n",
    "\n",
    "rutas_guardar = [\"../datos/html_backups/airbnb_oslo_finde1.html\",\n",
    "                 \"../datos/html_backups/airbnb_oslo_finde2.html\",\n",
    "                 \"../datos/html_backups/airbnb_oslo_finde3.html\",\n",
    "                 \"../datos/html_backups/airbnb_oslo_finde4.html\",\n",
    "                 \"../datos/html_backups/airbnb_oslo_finde5.html\",\n",
    "                 \"../datos/html_backups/airbnb_oslo_finde6.html\"]"
   ]
  },
  {
   "cell_type": "markdown",
   "metadata": {},
   "source": [
    "# Guardamos los HTML por fin de semana"
   ]
  },
  {
   "cell_type": "code",
   "execution_count": 3,
   "metadata": {},
   "outputs": [],
   "source": [
    "obtain_html(urls_airbnb,rutas_guardar)"
   ]
  },
  {
   "cell_type": "markdown",
   "metadata": {},
   "source": [
    "# Los leemos y volvemos soup"
   ]
  },
  {
   "cell_type": "code",
   "execution_count": 15,
   "metadata": {},
   "outputs": [],
   "source": [
    "finde_soups = {}\n",
    "# Leer todos los HTML\n",
    "for i, file_path in enumerate(rutas_guardar, start=1):\n",
    "    with open(file_path, \"r\", encoding=\"utf-8\") as file:\n",
    "        page_content = file.read()\n",
    "        soup = BeautifulSoup(page_content, \"html.parser\")\n",
    "        # Guardar con variables dinamicas\n",
    "        finde_soups[f'finde{i}'] = soup\n",
    "\n",
    "finde1 = finde_soups['finde1']\n",
    "finde2 = finde_soups['finde2']\n",
    "finde3 = finde_soups['finde3']\n",
    "finde4 = finde_soups['finde4']\n",
    "finde5 = finde_soups['finde5']\n",
    "finde6 = finde_soups['finde6']\n",
    "findes = [finde1,finde2,finde3,finde4,finde5,finde6]"
   ]
  },
  {
   "cell_type": "markdown",
   "metadata": {},
   "source": [
    "# Con esta función hacemos el DF"
   ]
  },
  {
   "cell_type": "code",
   "execution_count": 16,
   "metadata": {},
   "outputs": [
    {
     "data": {
      "text/html": [
       "<div>\n",
       "<style scoped>\n",
       "    .dataframe tbody tr th:only-of-type {\n",
       "        vertical-align: middle;\n",
       "    }\n",
       "\n",
       "    .dataframe tbody tr th {\n",
       "        vertical-align: top;\n",
       "    }\n",
       "\n",
       "    .dataframe thead th {\n",
       "        text-align: right;\n",
       "    }\n",
       "</style>\n",
       "<table border=\"1\" class=\"dataframe\">\n",
       "  <thead>\n",
       "    <tr style=\"text-align: right;\">\n",
       "      <th></th>\n",
       "      <th>Título</th>\n",
       "      <th>Descripción</th>\n",
       "      <th>Precio (€)</th>\n",
       "      <th>Fecha entrada</th>\n",
       "      <th>Fecha salida</th>\n",
       "    </tr>\n",
       "  </thead>\n",
       "  <tbody>\n",
       "    <tr>\n",
       "      <th>17</th>\n",
       "      <td>Apartamento en Grünerløkka</td>\n",
       "      <td>Apartamento tipo tipo lo en Grünerløkka</td>\n",
       "      <td>1.047</td>\n",
       "      <td>24 oct.</td>\n",
       "      <td>27</td>\n",
       "    </tr>\n",
       "    <tr>\n",
       "      <th>117</th>\n",
       "      <td>Apartamento en Bydel Sagene</td>\n",
       "      <td>Apartamento de 3 habitaciones en el centro de ...</td>\n",
       "      <td>404</td>\n",
       "      <td>21 nov.</td>\n",
       "      <td>24</td>\n",
       "    </tr>\n",
       "    <tr>\n",
       "      <th>60</th>\n",
       "      <td>Apartamento en Grünerløkka</td>\n",
       "      <td>Apartamento loft extremadamente céntrico</td>\n",
       "      <td>639</td>\n",
       "      <td>7 nov.</td>\n",
       "      <td>10</td>\n",
       "    </tr>\n",
       "    <tr>\n",
       "      <th>18</th>\n",
       "      <td>Apartamento en Oslo</td>\n",
       "      <td>Solbakkeveien</td>\n",
       "      <td>389</td>\n",
       "      <td>24 oct.</td>\n",
       "      <td>27</td>\n",
       "    </tr>\n",
       "    <tr>\n",
       "      <th>76</th>\n",
       "      <td>Apto. residencial en Grünerløkka</td>\n",
       "      <td>Loft soleado con terraza cerca del centro de l...</td>\n",
       "      <td>noche,</td>\n",
       "      <td>14 nov.</td>\n",
       "      <td>17</td>\n",
       "    </tr>\n",
       "  </tbody>\n",
       "</table>\n",
       "</div>"
      ],
      "text/plain": [
       "                               Título  \\\n",
       "17         Apartamento en Grünerløkka   \n",
       "117       Apartamento en Bydel Sagene   \n",
       "60         Apartamento en Grünerløkka   \n",
       "18                Apartamento en Oslo   \n",
       "76   Apto. residencial en Grünerløkka   \n",
       "\n",
       "                                           Descripción Precio (€)  \\\n",
       "17             Apartamento tipo tipo lo en Grünerløkka      1.047   \n",
       "117  Apartamento de 3 habitaciones en el centro de ...        404   \n",
       "60            Apartamento loft extremadamente céntrico        639   \n",
       "18                                       Solbakkeveien        389   \n",
       "76   Loft soleado con terraza cerca del centro de l...     noche,   \n",
       "\n",
       "    Fecha entrada Fecha salida  \n",
       "17        24 oct.           27  \n",
       "117       21 nov.           24  \n",
       "60         7 nov.           10  \n",
       "18        24 oct.           27  \n",
       "76        14 nov.           17  "
      ]
     },
     "execution_count": 16,
     "metadata": {},
     "output_type": "execute_result"
    }
   ],
   "source": [
    "df = make_df(findes)\n",
    "df.sample(5)"
   ]
  },
  {
   "cell_type": "markdown",
   "metadata": {},
   "source": [
    "# Ahora arreglamos las fechas y precios\n",
    "\n",
    "Primero generamos condiciones"
   ]
  },
  {
   "cell_type": "code",
   "execution_count": 17,
   "metadata": {},
   "outputs": [],
   "source": [
    "cond = df[\"Fecha entrada\"] == \"24 oct.\"\n",
    "cond2 = df[\"Fecha entrada\"] == \"31 oct.\"\n",
    "cond3 = df[\"Fecha entrada\"] == \"7 nov.\"\n",
    "cond4 = df[\"Fecha entrada\"] == \"14 nov.\"\n",
    "cond5 = df[\"Fecha entrada\"] == \"21 nov.\"\n",
    "cond6 = df[\"Fecha entrada\"] == \"28 nov.\""
   ]
  },
  {
   "cell_type": "markdown",
   "metadata": {},
   "source": [
    "Ahora creamos un DataFrame individual para cada uno"
   ]
  },
  {
   "cell_type": "code",
   "execution_count": 18,
   "metadata": {},
   "outputs": [],
   "source": [
    "df_finde1 = df[cond]\n",
    "df_finde2 = df[cond2]\n",
    "df_finde3 = df[cond3]\n",
    "df_finde4 = df[cond4]\n",
    "df_finde5 = df[cond5]\n",
    "df_finde6 = df[cond6]"
   ]
  },
  {
   "cell_type": "markdown",
   "metadata": {},
   "source": [
    "Igualamos las filas para arreglar las fechas"
   ]
  },
  {
   "cell_type": "code",
   "execution_count": 19,
   "metadata": {},
   "outputs": [],
   "source": [
    "df_finde1[\"Fecha entrada\"] = \"24/10/2024\"\n",
    "df_finde1[\"Fecha salida\"] = \"27/10/2024\"\n",
    "df_finde2[\"Fecha entrada\"] = \"31/10/2024\"\n",
    "df_finde2[\"Fecha salida\"] = \"3/11/2024\"\n",
    "df_finde3[\"Fecha entrada\"] = \"7/11/2024\"\n",
    "df_finde3[\"Fecha salida\"] = \"10/11/2024\"\n",
    "df_finde4[\"Fecha entrada\"] = \"14/11/2024\"\n",
    "df_finde4[\"Fecha salida\"] = \"17/11/2024\"\n",
    "df_finde5[\"Fecha entrada\"] = \"21/11/2024\"\n",
    "df_finde5[\"Fecha salida\"] = \"24/11/2024\"\n",
    "df_finde6[\"Fecha entrada\"] = \"28/11/2024\"\n",
    "df_finde6[\"Fecha salida\"] = \"1/12/2024\""
   ]
  },
  {
   "cell_type": "markdown",
   "metadata": {},
   "source": [
    "Concatenamos todo a un solo DF"
   ]
  },
  {
   "cell_type": "code",
   "execution_count": 20,
   "metadata": {},
   "outputs": [],
   "source": [
    "df = pd.concat([df_finde1,df_finde2,df_finde3,df_finde4,df_finde5,df_finde6],ignore_index=True)"
   ]
  },
  {
   "cell_type": "markdown",
   "metadata": {},
   "source": [
    "Limpiamos un poco la tabla y ponemos todo en formato adecuado"
   ]
  },
  {
   "cell_type": "code",
   "execution_count": 21,
   "metadata": {},
   "outputs": [
    {
     "data": {
      "text/html": [
       "<div>\n",
       "<style scoped>\n",
       "    .dataframe tbody tr th:only-of-type {\n",
       "        vertical-align: middle;\n",
       "    }\n",
       "\n",
       "    .dataframe tbody tr th {\n",
       "        vertical-align: top;\n",
       "    }\n",
       "\n",
       "    .dataframe thead th {\n",
       "        text-align: right;\n",
       "    }\n",
       "</style>\n",
       "<table border=\"1\" class=\"dataframe\">\n",
       "  <thead>\n",
       "    <tr style=\"text-align: right;\">\n",
       "      <th></th>\n",
       "      <th>Título</th>\n",
       "      <th>Descripción</th>\n",
       "      <th>Precio (€)</th>\n",
       "      <th>Fecha entrada</th>\n",
       "      <th>Fecha salida</th>\n",
       "    </tr>\n",
       "  </thead>\n",
       "  <tbody>\n",
       "    <tr>\n",
       "      <th>1</th>\n",
       "      <td>Apartamento en Gamle Oslo</td>\n",
       "      <td>Apartamento de 3 habitaciones en Ensjø/ Helsfyr</td>\n",
       "      <td>307</td>\n",
       "      <td>2024-10-24</td>\n",
       "      <td>2024-10-27</td>\n",
       "    </tr>\n",
       "    <tr>\n",
       "      <th>2</th>\n",
       "      <td>Apartamento en Oslo kommune</td>\n",
       "      <td>Acogedor, céntrico y habitaciones cuatro</td>\n",
       "      <td>351</td>\n",
       "      <td>2024-10-24</td>\n",
       "      <td>2024-10-27</td>\n",
       "    </tr>\n",
       "    <tr>\n",
       "      <th>3</th>\n",
       "      <td>Apartamento en Sentrum</td>\n",
       "      <td>13,planta Tjuvholmen, gran vista, terraza en l...</td>\n",
       "      <td>549</td>\n",
       "      <td>2024-10-24</td>\n",
       "      <td>2024-10-27</td>\n",
       "    </tr>\n",
       "    <tr>\n",
       "      <th>4</th>\n",
       "      <td>Apartamento en Sankt Hanshaugen</td>\n",
       "      <td>Un oasis verde en medio de Oslo</td>\n",
       "      <td>774</td>\n",
       "      <td>2024-10-24</td>\n",
       "      <td>2024-10-27</td>\n",
       "    </tr>\n",
       "    <tr>\n",
       "      <th>7</th>\n",
       "      <td>Loft en Ris</td>\n",
       "      <td>Vinderen, amplio apartamento en el ático</td>\n",
       "      <td>480</td>\n",
       "      <td>2024-10-24</td>\n",
       "      <td>2024-10-27</td>\n",
       "    </tr>\n",
       "  </tbody>\n",
       "</table>\n",
       "</div>"
      ],
      "text/plain": [
       "                            Título  \\\n",
       "1        Apartamento en Gamle Oslo   \n",
       "2      Apartamento en Oslo kommune   \n",
       "3           Apartamento en Sentrum   \n",
       "4  Apartamento en Sankt Hanshaugen   \n",
       "7                      Loft en Ris   \n",
       "\n",
       "                                         Descripción  Precio (€)  \\\n",
       "1    Apartamento de 3 habitaciones en Ensjø/ Helsfyr         307   \n",
       "2           Acogedor, céntrico y habitaciones cuatro         351   \n",
       "3  13,planta Tjuvholmen, gran vista, terraza en l...         549   \n",
       "4                    Un oasis verde en medio de Oslo         774   \n",
       "7           Vinderen, amplio apartamento en el ático         480   \n",
       "\n",
       "  Fecha entrada Fecha salida  \n",
       "1    2024-10-24   2024-10-27  \n",
       "2    2024-10-24   2024-10-27  \n",
       "3    2024-10-24   2024-10-27  \n",
       "4    2024-10-24   2024-10-27  \n",
       "7    2024-10-24   2024-10-27  "
      ]
     },
     "execution_count": 21,
     "metadata": {},
     "output_type": "execute_result"
    }
   ],
   "source": [
    "df[\"Precio (€)\"] = df[\"Precio (€)\"].str.replace(\".\",\"\").replace(\"noche,\",np.nan)\n",
    "df = df.dropna(subset=[\"Precio (€)\"])\n",
    "df[\"Fecha entrada\"] = pd.to_datetime(df[\"Fecha entrada\"],format=\"mixed\")\n",
    "df[\"Fecha salida\"] = pd.to_datetime(df[\"Fecha salida\"],format=\"mixed\")\n",
    "df[\"Precio (€)\"] = df[\"Precio (€)\"].astype(int)\n",
    "df.head()"
   ]
  },
  {
   "cell_type": "code",
   "execution_count": 12,
   "metadata": {},
   "outputs": [],
   "source": [
    "df.to_csv(\"../datos/alojamientos/alojamientos_oslo.csv\")"
   ]
  },
  {
   "cell_type": "markdown",
   "metadata": {},
   "source": [
    "# Actualización 28-10-2024\n",
    "Leemos el CSV y arreglamos el DF"
   ]
  },
  {
   "cell_type": "code",
   "execution_count": 4,
   "metadata": {},
   "outputs": [
    {
     "data": {
      "text/html": [
       "<div>\n",
       "<style scoped>\n",
       "    .dataframe tbody tr th:only-of-type {\n",
       "        vertical-align: middle;\n",
       "    }\n",
       "\n",
       "    .dataframe tbody tr th {\n",
       "        vertical-align: top;\n",
       "    }\n",
       "\n",
       "    .dataframe thead th {\n",
       "        text-align: right;\n",
       "    }\n",
       "</style>\n",
       "<table border=\"1\" class=\"dataframe\">\n",
       "  <thead>\n",
       "    <tr style=\"text-align: right;\">\n",
       "      <th></th>\n",
       "      <th>Título</th>\n",
       "      <th>Descripción</th>\n",
       "      <th>Precio (€)</th>\n",
       "      <th>Fecha entrada</th>\n",
       "      <th>Fecha salida</th>\n",
       "    </tr>\n",
       "  </thead>\n",
       "  <tbody>\n",
       "    <tr>\n",
       "      <th>1</th>\n",
       "      <td>Apartamento en Gamle Oslo</td>\n",
       "      <td>Apartamento de 3 habitaciones en Ensjø/ Helsfyr</td>\n",
       "      <td>307</td>\n",
       "      <td>2024-10-24</td>\n",
       "      <td>2024-10-27</td>\n",
       "    </tr>\n",
       "    <tr>\n",
       "      <th>2</th>\n",
       "      <td>Apartamento en Oslo kommune</td>\n",
       "      <td>Acogedor, céntrico y habitaciones cuatro</td>\n",
       "      <td>351</td>\n",
       "      <td>2024-10-24</td>\n",
       "      <td>2024-10-27</td>\n",
       "    </tr>\n",
       "    <tr>\n",
       "      <th>3</th>\n",
       "      <td>Apartamento en Sentrum</td>\n",
       "      <td>13,planta Tjuvholmen, gran vista, terraza en l...</td>\n",
       "      <td>549</td>\n",
       "      <td>2024-10-24</td>\n",
       "      <td>2024-10-27</td>\n",
       "    </tr>\n",
       "    <tr>\n",
       "      <th>4</th>\n",
       "      <td>Apartamento en Sankt Hanshaugen</td>\n",
       "      <td>Un oasis verde en medio de Oslo</td>\n",
       "      <td>774</td>\n",
       "      <td>2024-10-24</td>\n",
       "      <td>2024-10-27</td>\n",
       "    </tr>\n",
       "    <tr>\n",
       "      <th>7</th>\n",
       "      <td>Loft en Ris</td>\n",
       "      <td>Vinderen, amplio apartamento en el ático</td>\n",
       "      <td>480</td>\n",
       "      <td>2024-10-24</td>\n",
       "      <td>2024-10-27</td>\n",
       "    </tr>\n",
       "  </tbody>\n",
       "</table>\n",
       "</div>"
      ],
      "text/plain": [
       "                            Título  \\\n",
       "1        Apartamento en Gamle Oslo   \n",
       "2      Apartamento en Oslo kommune   \n",
       "3           Apartamento en Sentrum   \n",
       "4  Apartamento en Sankt Hanshaugen   \n",
       "7                      Loft en Ris   \n",
       "\n",
       "                                         Descripción  Precio (€)  \\\n",
       "1    Apartamento de 3 habitaciones en Ensjø/ Helsfyr         307   \n",
       "2           Acogedor, céntrico y habitaciones cuatro         351   \n",
       "3  13,planta Tjuvholmen, gran vista, terraza en l...         549   \n",
       "4                    Un oasis verde en medio de Oslo         774   \n",
       "7           Vinderen, amplio apartamento en el ático         480   \n",
       "\n",
       "  Fecha entrada Fecha salida  \n",
       "1    2024-10-24   2024-10-27  \n",
       "2    2024-10-24   2024-10-27  \n",
       "3    2024-10-24   2024-10-27  \n",
       "4    2024-10-24   2024-10-27  \n",
       "7    2024-10-24   2024-10-27  "
      ]
     },
     "execution_count": 4,
     "metadata": {},
     "output_type": "execute_result"
    }
   ],
   "source": [
    "df = pd.read_csv(\"../datos/alojamientos/alojamientos_oslo.csv\", index_col=\"Unnamed: 0\")\n",
    "df.head()"
   ]
  },
  {
   "cell_type": "markdown",
   "metadata": {},
   "source": [
    "Primero vamos a arreglar las fechas"
   ]
  },
  {
   "cell_type": "code",
   "execution_count": 5,
   "metadata": {},
   "outputs": [
    {
     "data": {
      "text/plain": [
       "array(['2024-10-24', '2024-10-31', '2024-07-11', '2024-11-14',\n",
       "       '2024-11-21', '2024-11-28'], dtype=object)"
      ]
     },
     "execution_count": 5,
     "metadata": {},
     "output_type": "execute_result"
    }
   ],
   "source": [
    "df[\"Fecha entrada\"].unique()"
   ]
  },
  {
   "cell_type": "code",
   "execution_count": 9,
   "metadata": {},
   "outputs": [
    {
     "data": {
      "text/html": [
       "<div>\n",
       "<style scoped>\n",
       "    .dataframe tbody tr th:only-of-type {\n",
       "        vertical-align: middle;\n",
       "    }\n",
       "\n",
       "    .dataframe tbody tr th {\n",
       "        vertical-align: top;\n",
       "    }\n",
       "\n",
       "    .dataframe thead th {\n",
       "        text-align: right;\n",
       "    }\n",
       "</style>\n",
       "<table border=\"1\" class=\"dataframe\">\n",
       "  <thead>\n",
       "    <tr style=\"text-align: right;\">\n",
       "      <th></th>\n",
       "      <th>Título</th>\n",
       "      <th>Descripción</th>\n",
       "      <th>Precio (€)</th>\n",
       "      <th>Fecha entrada</th>\n",
       "      <th>Fecha salida</th>\n",
       "    </tr>\n",
       "  </thead>\n",
       "  <tbody>\n",
       "    <tr>\n",
       "      <th>1</th>\n",
       "      <td>Apartamento en Gamle Oslo</td>\n",
       "      <td>Apartamento de 3 habitaciones en Ensjø/ Helsfyr</td>\n",
       "      <td>307</td>\n",
       "      <td>2024-10-24</td>\n",
       "      <td>2024-10-27</td>\n",
       "    </tr>\n",
       "    <tr>\n",
       "      <th>2</th>\n",
       "      <td>Apartamento en Oslo kommune</td>\n",
       "      <td>Acogedor, céntrico y habitaciones cuatro</td>\n",
       "      <td>351</td>\n",
       "      <td>2024-10-24</td>\n",
       "      <td>2024-10-27</td>\n",
       "    </tr>\n",
       "    <tr>\n",
       "      <th>3</th>\n",
       "      <td>Apartamento en Sentrum</td>\n",
       "      <td>13,planta Tjuvholmen, gran vista, terraza en l...</td>\n",
       "      <td>549</td>\n",
       "      <td>2024-10-24</td>\n",
       "      <td>2024-10-27</td>\n",
       "    </tr>\n",
       "    <tr>\n",
       "      <th>4</th>\n",
       "      <td>Apartamento en Sankt Hanshaugen</td>\n",
       "      <td>Un oasis verde en medio de Oslo</td>\n",
       "      <td>774</td>\n",
       "      <td>2024-10-24</td>\n",
       "      <td>2024-10-27</td>\n",
       "    </tr>\n",
       "    <tr>\n",
       "      <th>7</th>\n",
       "      <td>Loft en Ris</td>\n",
       "      <td>Vinderen, amplio apartamento en el ático</td>\n",
       "      <td>480</td>\n",
       "      <td>2024-10-24</td>\n",
       "      <td>2024-10-27</td>\n",
       "    </tr>\n",
       "  </tbody>\n",
       "</table>\n",
       "</div>"
      ],
      "text/plain": [
       "                            Título  \\\n",
       "1        Apartamento en Gamle Oslo   \n",
       "2      Apartamento en Oslo kommune   \n",
       "3           Apartamento en Sentrum   \n",
       "4  Apartamento en Sankt Hanshaugen   \n",
       "7                      Loft en Ris   \n",
       "\n",
       "                                         Descripción  Precio (€)  \\\n",
       "1    Apartamento de 3 habitaciones en Ensjø/ Helsfyr         307   \n",
       "2           Acogedor, céntrico y habitaciones cuatro         351   \n",
       "3  13,planta Tjuvholmen, gran vista, terraza en l...         549   \n",
       "4                    Un oasis verde en medio de Oslo         774   \n",
       "7           Vinderen, amplio apartamento en el ático         480   \n",
       "\n",
       "  Fecha entrada Fecha salida  \n",
       "1    2024-10-24   2024-10-27  \n",
       "2    2024-10-24   2024-10-27  \n",
       "3    2024-10-24   2024-10-27  \n",
       "4    2024-10-24   2024-10-27  \n",
       "7    2024-10-24   2024-10-27  "
      ]
     },
     "execution_count": 9,
     "metadata": {},
     "output_type": "execute_result"
    }
   ],
   "source": [
    "df[\"Fecha entrada\"] = pd.to_datetime(df[\"Fecha entrada\"], errors='coerce')\n",
    "df[\"Fecha salida\"] = df[\"Fecha entrada\"] + pd.Timedelta(days=3)\n",
    "df[\"Fecha entrada\"] = pd.to_datetime(df[\"Fecha entrada\"],format=\"%Y-%m-%d\")\n",
    "df[\"Fecha salida\"] = pd.to_datetime(df[\"Fecha salida\"],format=\"%Y-%m-%d\")\n",
    "df.head()"
   ]
  },
  {
   "cell_type": "code",
   "execution_count": 10,
   "metadata": {},
   "outputs": [
    {
     "name": "stdout",
     "output_type": "stream",
     "text": [
      "<class 'pandas.core.frame.DataFrame'>\n",
      "Index: 107 entries, 1 to 143\n",
      "Data columns (total 5 columns):\n",
      " #   Column         Non-Null Count  Dtype         \n",
      "---  ------         --------------  -----         \n",
      " 0   Título         107 non-null    object        \n",
      " 1   Descripción    107 non-null    object        \n",
      " 2   Precio (€)     107 non-null    int64         \n",
      " 3   Fecha entrada  107 non-null    datetime64[ns]\n",
      " 4   Fecha salida   107 non-null    datetime64[ns]\n",
      "dtypes: datetime64[ns](2), int64(1), object(2)\n",
      "memory usage: 5.0+ KB\n"
     ]
    }
   ],
   "source": [
    "df.info()"
   ]
  },
  {
   "cell_type": "code",
   "execution_count": 11,
   "metadata": {},
   "outputs": [],
   "source": [
    "df.to_csv(\"../datos/alojamientos/alojamientos_oslo.csv\")"
   ]
  }
 ],
 "metadata": {
  "kernelspec": {
   "display_name": "Hackio_Proyecto_Semana_3",
   "language": "python",
   "name": "python3"
  },
  "language_info": {
   "codemirror_mode": {
    "name": "ipython",
    "version": 3
   },
   "file_extension": ".py",
   "mimetype": "text/x-python",
   "name": "python",
   "nbconvert_exporter": "python",
   "pygments_lexer": "ipython3",
   "version": "3.11.9"
  }
 },
 "nbformat": 4,
 "nbformat_minor": 2
}
