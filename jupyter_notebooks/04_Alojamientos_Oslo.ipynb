{
 "cells": [
  {
   "cell_type": "code",
   "execution_count": 13,
   "metadata": {},
   "outputs": [],
   "source": [
    "from selenium import webdriver\n",
    "from selenium.webdriver.chrome.service import Service\n",
    "from selenium.webdriver.common.by import By\n",
    "from selenium.webdriver.chrome.options import Options\n",
    "from bs4 import BeautifulSoup\n",
    "import time\n",
    "# Librerías de extracción de datos\n",
    "# -----------------------------------------------------------------------\n",
    "from bs4 import BeautifulSoup\n",
    "import requests\n",
    "import tqdm\n",
    "# Tratamiento de datos\n",
    "# -----------------------------------------------------------------------\n",
    "import pandas as pd\n",
    "import numpy as np\n",
    "import datetime\n",
    "\n",
    "# Requests\n",
    "import requests\n",
    "\n",
    "from time import sleep\n",
    "import random\n",
    "# Para Importar desde rutas recursivas\n",
    "# -----------------------------------------------------------------------\n",
    "import sys\n",
    "sys.path.append(\"../\") #Para poder importar\n",
    "from src.SupportAlojamientos import obtain_html,make_df\n",
    "import warnings\n",
    "warnings.filterwarnings('ignore')\n",
    "\n",
    "\n",
    "import matplotlib.pyplot as plt\n",
    "import seaborn as sns\n",
    "\n",
    "\n"
   ]
  },
  {
   "cell_type": "markdown",
   "metadata": {},
   "source": [
    "# Vamos a buscar los apartamentos para todas las fechas de los vuelos\n",
    "\n",
    "Usando BeautifulSoup y requests, nos vamos a guardar las urls y para que no nos bloqueen, lo guardaremos en un HTML\n",
    "URLs:\n",
    "\n",
    "1er Finde\n",
    "- https://www.airbnb.es/s/Oslo--Noruega/homes?tab_id=home_tab&refinement_paths%5B%5D=%2Fhomes&flexible_trip_lengths%5B%5D=one_week&monthly_start_date=2024-11-01&monthly_length=3&monthly_end_date=2025-02-01&price_filter_input_type=0&channel=EXPLORE&query=Oslo%2C%20Noruega&date_picker_type=calendar&checkin=2024-10-24&checkout=2024-10-27&adults=4&source=structured_search_input_header&search_type=autocomplete_click&price_filter_num_nights=3&room_types%5B%5D=Entire%20home%2Fapt&amenities%5B%5D=4&amenities%5B%5D=8&place_id=ChIJOfBn8mFuQUYRmh4j019gkn4&location_bb=Qm%2FpgkEvKaJCbz0bQSn2Cw%3D%3D\n",
    "\n",
    "2do Finde\n",
    "- https://www.airbnb.es/s/Oslo--Noruega/homes?tab_id=home_tab&refinement_paths%5B%5D=%2Fhomes&flexible_trip_lengths%5B%5D=one_week&monthly_start_date=2024-11-01&monthly_length=3&monthly_end_date=2025-02-01&price_filter_input_type=0&channel=EXPLORE&query=Oslo%2C%20Noruega&date_picker_type=calendar&checkin=2024-10-31&checkout=2024-11-03&adults=4&source=structured_search_input_header&search_type=autocomplete_click&price_filter_num_nights=3&room_types%5B%5D=Entire%20home%2Fapt&amenities%5B%5D=4&amenities%5B%5D=8&place_id=ChIJOfBn8mFuQUYRmh4j019gkn4&location_bb=Qm%2FpgkEvKaJCbz0bQSn2Cw%3D%3D\n",
    "\n",
    "3er Finde\n",
    "- https://www.airbnb.es/s/Oslo--Noruega/homes?tab_id=home_tab&refinement_paths%5B%5D=%2Fhomes&flexible_trip_lengths%5B%5D=one_week&monthly_start_date=2024-11-01&monthly_length=3&monthly_end_date=2025-02-01&price_filter_input_type=0&channel=EXPLORE&query=Oslo%2C%20Noruega&date_picker_type=calendar&checkin=2024-11-07&checkout=2024-11-10&adults=4&source=structured_search_input_header&search_type=autocomplete_click&price_filter_num_nights=3&room_types%5B%5D=Entire%20home%2Fapt&amenities%5B%5D=4&amenities%5B%5D=8&place_id=ChIJOfBn8mFuQUYRmh4j019gkn4&location_bb=Qm%2FpgkEvKaJCbz0bQSn2Cw%3D%3D\n",
    "\n",
    "4to Finde\n",
    "- https://www.airbnb.es/s/Oslo--Noruega/homes?tab_id=home_tab&refinement_paths%5B%5D=%2Fhomes&flexible_trip_lengths%5B%5D=one_week&monthly_start_date=2024-11-01&monthly_length=3&monthly_end_date=2025-02-01&price_filter_input_type=0&channel=EXPLORE&query=Oslo%2C%20Noruega&date_picker_type=calendar&checkin=2024-11-14&checkout=2024-11-17&adults=4&source=structured_search_input_header&search_type=autocomplete_click&price_filter_num_nights=3&room_types%5B%5D=Entire%20home%2Fapt&amenities%5B%5D=4&amenities%5B%5D=8&place_id=ChIJOfBn8mFuQUYRmh4j019gkn4&location_bb=Qm%2FpgkEvKaJCbz0bQSn2Cw%3D%3D\n",
    "\n",
    "5to Finde\n",
    "- https://www.airbnb.es/s/Oslo--Noruega/homes?tab_id=home_tab&refinement_paths%5B%5D=%2Fhomes&flexible_trip_lengths%5B%5D=one_week&monthly_start_date=2024-11-01&monthly_length=3&monthly_end_date=2025-02-01&price_filter_input_type=0&channel=EXPLORE&query=Oslo%2C%20Noruega&date_picker_type=calendar&checkin=2024-11-21&checkout=2024-11-24&adults=4&source=structured_search_input_header&search_type=autocomplete_click&price_filter_num_nights=3&room_types%5B%5D=Entire%20home%2Fapt&amenities%5B%5D=4&amenities%5B%5D=8&place_id=ChIJOfBn8mFuQUYRmh4j019gkn4&location_bb=Qm%2FpgkEvKaJCbz0bQSn2Cw%3D%3D\n",
    "\n",
    "6to Finde\n",
    "- https://www.airbnb.es/s/Oslo--Noruega/homes?tab_id=home_tab&refinement_paths%5B%5D=%2Fhomes&flexible_trip_lengths%5B%5D=one_week&monthly_start_date=2024-11-01&monthly_length=3&monthly_end_date=2025-02-01&price_filter_input_type=0&channel=EXPLORE&query=Oslo%2C%20Noruega&date_picker_type=calendar&checkin=2024-11-28&checkout=2024-12-01&adults=4&source=structured_search_input_header&search_type=autocomplete_click&price_filter_num_nights=3&room_types%5B%5D=Entire%20home%2Fapt&amenities%5B%5D=4&amenities%5B%5D=8&place_id=ChIJOfBn8mFuQUYRmh4j019gkn4&location_bb=Qm%2FpgkEvKaJCbz0bQSn2Cw%3D%3D\n",
    "\n"
   ]
  },
  {
   "cell_type": "code",
   "execution_count": 14,
   "metadata": {},
   "outputs": [],
   "source": [
    "urls_airbnb = [\"https://www.airbnb.es/s/Oslo--Noruega/homes?tab_id=home_tab&refinement_paths%5B%5D=%2Fhomes&flexible_trip_lengths%5B%5D=one_week&monthly_start_date=2024-11-01&monthly_length=3&monthly_end_date=2025-02-01&price_filter_input_type=0&channel=EXPLORE&query=Oslo%2C%20Noruega&date_picker_type=calendar&checkin=2024-10-24&checkout=2024-10-27&adults=4&source=structured_search_input_header&search_type=autocomplete_click&price_filter_num_nights=3&room_types%5B%5D=Entire%20home%2Fapt&amenities%5B%5D=4&amenities%5B%5D=8&place_id=ChIJOfBn8mFuQUYRmh4j019gkn4&location_bb=Qm%2FpgkEvKaJCbz0bQSn2Cw%3D%3D\",\n",
    "               \"https://www.airbnb.es/s/Oslo--Noruega/homes?tab_id=home_tab&refinement_paths%5B%5D=%2Fhomes&flexible_trip_lengths%5B%5D=one_week&monthly_start_date=2024-11-01&monthly_length=3&monthly_end_date=2025-02-01&price_filter_input_type=0&channel=EXPLORE&query=Oslo%2C%20Noruega&date_picker_type=calendar&checkin=2024-10-31&checkout=2024-11-03&adults=4&source=structured_search_input_header&search_type=autocomplete_click&price_filter_num_nights=3&room_types%5B%5D=Entire%20home%2Fapt&amenities%5B%5D=4&amenities%5B%5D=8&place_id=ChIJOfBn8mFuQUYRmh4j019gkn4&location_bb=Qm%2FpgkEvKaJCbz0bQSn2Cw%3D%3D\",\n",
    "               \"https://www.airbnb.es/s/Oslo--Noruega/homes?tab_id=home_tab&refinement_paths%5B%5D=%2Fhomes&flexible_trip_lengths%5B%5D=one_week&monthly_start_date=2024-11-01&monthly_length=3&monthly_end_date=2025-02-01&price_filter_input_type=0&channel=EXPLORE&query=Oslo%2C%20Noruega&date_picker_type=calendar&checkin=2024-11-07&checkout=2024-11-10&adults=4&source=structured_search_input_header&search_type=autocomplete_click&price_filter_num_nights=3&room_types%5B%5D=Entire%20home%2Fapt&amenities%5B%5D=4&amenities%5B%5D=8&place_id=ChIJOfBn8mFuQUYRmh4j019gkn4&location_bb=Qm%2FpgkEvKaJCbz0bQSn2Cw%3D%3D\",\n",
    "               \"https://www.airbnb.es/s/Oslo--Noruega/homes?tab_id=home_tab&refinement_paths%5B%5D=%2Fhomes&flexible_trip_lengths%5B%5D=one_week&monthly_start_date=2024-11-01&monthly_length=3&monthly_end_date=2025-02-01&price_filter_input_type=0&channel=EXPLORE&query=Oslo%2C%20Noruega&date_picker_type=calendar&checkin=2024-11-14&checkout=2024-11-17&adults=4&source=structured_search_input_header&search_type=autocomplete_click&price_filter_num_nights=3&room_types%5B%5D=Entire%20home%2Fapt&amenities%5B%5D=4&amenities%5B%5D=8&place_id=ChIJOfBn8mFuQUYRmh4j019gkn4&location_bb=Qm%2FpgkEvKaJCbz0bQSn2Cw%3D%3D\",\n",
    "               \"https://www.airbnb.es/s/Oslo--Noruega/homes?tab_id=home_tab&refinement_paths%5B%5D=%2Fhomes&flexible_trip_lengths%5B%5D=one_week&monthly_start_date=2024-11-01&monthly_length=3&monthly_end_date=2025-02-01&price_filter_input_type=0&channel=EXPLORE&query=Oslo%2C%20Noruega&date_picker_type=calendar&checkin=2024-11-21&checkout=2024-11-24&adults=4&source=structured_search_input_header&search_type=autocomplete_click&price_filter_num_nights=3&room_types%5B%5D=Entire%20home%2Fapt&amenities%5B%5D=4&amenities%5B%5D=8&place_id=ChIJOfBn8mFuQUYRmh4j019gkn4&location_bb=Qm%2FpgkEvKaJCbz0bQSn2Cw%3D%3D\",\n",
    "               \"https://www.airbnb.es/s/Oslo--Noruega/homes?tab_id=home_tab&refinement_paths%5B%5D=%2Fhomes&flexible_trip_lengths%5B%5D=one_week&monthly_start_date=2024-11-01&monthly_length=3&monthly_end_date=2025-02-01&price_filter_input_type=0&channel=EXPLORE&query=Oslo%2C%20Noruega&date_picker_type=calendar&checkin=2024-11-28&checkout=2024-12-01&adults=4&source=structured_search_input_header&search_type=autocomplete_click&price_filter_num_nights=3&room_types%5B%5D=Entire%20home%2Fapt&amenities%5B%5D=4&amenities%5B%5D=8&place_id=ChIJOfBn8mFuQUYRmh4j019gkn4&location_bb=Qm%2FpgkEvKaJCbz0bQSn2Cw%3D%3D\"\n",
    "               ]\n",
    "\n",
    "rutas_guardar = [\"../datos/html_backups/airbnb_oslo_finde1.html\",\n",
    "                 \"../datos/html_backups/airbnb_oslo_finde2.html\",\n",
    "                 \"../datos/html_backups/airbnb_oslo_finde3.html\",\n",
    "                 \"../datos/html_backups/airbnb_oslo_finde4.html\",\n",
    "                 \"../datos/html_backups/airbnb_oslo_finde5.html\",\n",
    "                 \"../datos/html_backups/airbnb_oslo_finde6.html\"]"
   ]
  },
  {
   "cell_type": "markdown",
   "metadata": {},
   "source": [
    "# Guardamos los HTML por fin de semana"
   ]
  },
  {
   "cell_type": "code",
   "execution_count": 3,
   "metadata": {},
   "outputs": [],
   "source": [
    "obtain_html(urls_airbnb,rutas_guardar)"
   ]
  },
  {
   "cell_type": "markdown",
   "metadata": {},
   "source": [
    "# Los leemos y volvemos soup"
   ]
  },
  {
   "cell_type": "code",
   "execution_count": 15,
   "metadata": {},
   "outputs": [],
   "source": [
    "finde_soups = {}\n",
    "# Leer todos los HTML\n",
    "for i, file_path in enumerate(rutas_guardar, start=1):\n",
    "    with open(file_path, \"r\", encoding=\"utf-8\") as file:\n",
    "        page_content = file.read()\n",
    "        soup = BeautifulSoup(page_content, \"html.parser\")\n",
    "        # Guardar con variables dinamicas\n",
    "        finde_soups[f'finde{i}'] = soup\n",
    "\n",
    "finde1 = finde_soups['finde1']\n",
    "finde2 = finde_soups['finde2']\n",
    "finde3 = finde_soups['finde3']\n",
    "finde4 = finde_soups['finde4']\n",
    "finde5 = finde_soups['finde5']\n",
    "finde6 = finde_soups['finde6']\n",
    "findes = [finde1,finde2,finde3,finde4,finde5,finde6]"
   ]
  },
  {
   "cell_type": "markdown",
   "metadata": {},
   "source": [
    "# Con esta función hacemos el DF"
   ]
  },
  {
   "cell_type": "code",
   "execution_count": 16,
   "metadata": {},
   "outputs": [
    {
     "data": {
      "text/html": [
       "<div>\n",
       "<style scoped>\n",
       "    .dataframe tbody tr th:only-of-type {\n",
       "        vertical-align: middle;\n",
       "    }\n",
       "\n",
       "    .dataframe tbody tr th {\n",
       "        vertical-align: top;\n",
       "    }\n",
       "\n",
       "    .dataframe thead th {\n",
       "        text-align: right;\n",
       "    }\n",
       "</style>\n",
       "<table border=\"1\" class=\"dataframe\">\n",
       "  <thead>\n",
       "    <tr style=\"text-align: right;\">\n",
       "      <th></th>\n",
       "      <th>Título</th>\n",
       "      <th>Descripción</th>\n",
       "      <th>Precio (€)</th>\n",
       "      <th>Fecha entrada</th>\n",
       "      <th>Fecha salida</th>\n",
       "    </tr>\n",
       "  </thead>\n",
       "  <tbody>\n",
       "    <tr>\n",
       "      <th>17</th>\n",
       "      <td>Apartamento en Grünerløkka</td>\n",
       "      <td>Apartamento tipo tipo lo en Grünerløkka</td>\n",
       "      <td>1.047</td>\n",
       "      <td>24 oct.</td>\n",
       "      <td>27</td>\n",
       "    </tr>\n",
       "    <tr>\n",
       "      <th>117</th>\n",
       "      <td>Apartamento en Bydel Sagene</td>\n",
       "      <td>Apartamento de 3 habitaciones en el centro de ...</td>\n",
       "      <td>404</td>\n",
       "      <td>21 nov.</td>\n",
       "      <td>24</td>\n",
       "    </tr>\n",
       "    <tr>\n",
       "      <th>60</th>\n",
       "      <td>Apartamento en Grünerløkka</td>\n",
       "      <td>Apartamento loft extremadamente céntrico</td>\n",
       "      <td>639</td>\n",
       "      <td>7 nov.</td>\n",
       "      <td>10</td>\n",
       "    </tr>\n",
       "    <tr>\n",
       "      <th>18</th>\n",
       "      <td>Apartamento en Oslo</td>\n",
       "      <td>Solbakkeveien</td>\n",
       "      <td>389</td>\n",
       "      <td>24 oct.</td>\n",
       "      <td>27</td>\n",
       "    </tr>\n",
       "    <tr>\n",
       "      <th>76</th>\n",
       "      <td>Apto. residencial en Grünerløkka</td>\n",
       "      <td>Loft soleado con terraza cerca del centro de l...</td>\n",
       "      <td>noche,</td>\n",
       "      <td>14 nov.</td>\n",
       "      <td>17</td>\n",
       "    </tr>\n",
       "  </tbody>\n",
       "</table>\n",
       "</div>"
      ],
      "text/plain": [
       "                               Título  \\\n",
       "17         Apartamento en Grünerløkka   \n",
       "117       Apartamento en Bydel Sagene   \n",
       "60         Apartamento en Grünerløkka   \n",
       "18                Apartamento en Oslo   \n",
       "76   Apto. residencial en Grünerløkka   \n",
       "\n",
       "                                           Descripción Precio (€)  \\\n",
       "17             Apartamento tipo tipo lo en Grünerløkka      1.047   \n",
       "117  Apartamento de 3 habitaciones en el centro de ...        404   \n",
       "60            Apartamento loft extremadamente céntrico        639   \n",
       "18                                       Solbakkeveien        389   \n",
       "76   Loft soleado con terraza cerca del centro de l...     noche,   \n",
       "\n",
       "    Fecha entrada Fecha salida  \n",
       "17        24 oct.           27  \n",
       "117       21 nov.           24  \n",
       "60         7 nov.           10  \n",
       "18        24 oct.           27  \n",
       "76        14 nov.           17  "
      ]
     },
     "execution_count": 16,
     "metadata": {},
     "output_type": "execute_result"
    }
   ],
   "source": [
    "df = make_df(findes)\n",
    "df.sample(5)"
   ]
  },
  {
   "cell_type": "markdown",
   "metadata": {},
   "source": [
    "# Ahora arreglamos las fechas y precios\n",
    "\n",
    "Primero generamos condiciones"
   ]
  },
  {
   "cell_type": "code",
   "execution_count": 17,
   "metadata": {},
   "outputs": [],
   "source": [
    "cond = df[\"Fecha entrada\"] == \"24 oct.\"\n",
    "cond2 = df[\"Fecha entrada\"] == \"31 oct.\"\n",
    "cond3 = df[\"Fecha entrada\"] == \"7 nov.\"\n",
    "cond4 = df[\"Fecha entrada\"] == \"14 nov.\"\n",
    "cond5 = df[\"Fecha entrada\"] == \"21 nov.\"\n",
    "cond6 = df[\"Fecha entrada\"] == \"28 nov.\""
   ]
  },
  {
   "cell_type": "markdown",
   "metadata": {},
   "source": [
    "Ahora creamos un DataFrame individual para cada uno"
   ]
  },
  {
   "cell_type": "code",
   "execution_count": 18,
   "metadata": {},
   "outputs": [],
   "source": [
    "df_finde1 = df[cond]\n",
    "df_finde2 = df[cond2]\n",
    "df_finde3 = df[cond3]\n",
    "df_finde4 = df[cond4]\n",
    "df_finde5 = df[cond5]\n",
    "df_finde6 = df[cond6]"
   ]
  },
  {
   "cell_type": "markdown",
   "metadata": {},
   "source": [
    "Igualamos las filas para arreglar las fechas"
   ]
  },
  {
   "cell_type": "code",
   "execution_count": 19,
   "metadata": {},
   "outputs": [],
   "source": [
    "df_finde1[\"Fecha entrada\"] = \"24/10/2024\"\n",
    "df_finde1[\"Fecha salida\"] = \"27/10/2024\"\n",
    "df_finde2[\"Fecha entrada\"] = \"31/10/2024\"\n",
    "df_finde2[\"Fecha salida\"] = \"3/11/2024\"\n",
    "df_finde3[\"Fecha entrada\"] = \"7/11/2024\"\n",
    "df_finde3[\"Fecha salida\"] = \"10/11/2024\"\n",
    "df_finde4[\"Fecha entrada\"] = \"14/11/2024\"\n",
    "df_finde4[\"Fecha salida\"] = \"17/11/2024\"\n",
    "df_finde5[\"Fecha entrada\"] = \"21/11/2024\"\n",
    "df_finde5[\"Fecha salida\"] = \"24/11/2024\"\n",
    "df_finde6[\"Fecha entrada\"] = \"28/11/2024\"\n",
    "df_finde6[\"Fecha salida\"] = \"1/12/2024\""
   ]
  },
  {
   "cell_type": "markdown",
   "metadata": {},
   "source": [
    "Concatenamos todo a un solo DF"
   ]
  },
  {
   "cell_type": "code",
   "execution_count": 20,
   "metadata": {},
   "outputs": [],
   "source": [
    "df = pd.concat([df_finde1,df_finde2,df_finde3,df_finde4,df_finde5,df_finde6],ignore_index=True)"
   ]
  },
  {
   "cell_type": "markdown",
   "metadata": {},
   "source": [
    "Limpiamos un poco la tabla y ponemos todo en formato adecuado"
   ]
  },
  {
   "cell_type": "code",
   "execution_count": 21,
   "metadata": {},
   "outputs": [
    {
     "data": {
      "text/html": [
       "<div>\n",
       "<style scoped>\n",
       "    .dataframe tbody tr th:only-of-type {\n",
       "        vertical-align: middle;\n",
       "    }\n",
       "\n",
       "    .dataframe tbody tr th {\n",
       "        vertical-align: top;\n",
       "    }\n",
       "\n",
       "    .dataframe thead th {\n",
       "        text-align: right;\n",
       "    }\n",
       "</style>\n",
       "<table border=\"1\" class=\"dataframe\">\n",
       "  <thead>\n",
       "    <tr style=\"text-align: right;\">\n",
       "      <th></th>\n",
       "      <th>Título</th>\n",
       "      <th>Descripción</th>\n",
       "      <th>Precio (€)</th>\n",
       "      <th>Fecha entrada</th>\n",
       "      <th>Fecha salida</th>\n",
       "    </tr>\n",
       "  </thead>\n",
       "  <tbody>\n",
       "    <tr>\n",
       "      <th>1</th>\n",
       "      <td>Apartamento en Gamle Oslo</td>\n",
       "      <td>Apartamento de 3 habitaciones en Ensjø/ Helsfyr</td>\n",
       "      <td>307</td>\n",
       "      <td>2024-10-24</td>\n",
       "      <td>2024-10-27</td>\n",
       "    </tr>\n",
       "    <tr>\n",
       "      <th>2</th>\n",
       "      <td>Apartamento en Oslo kommune</td>\n",
       "      <td>Acogedor, céntrico y habitaciones cuatro</td>\n",
       "      <td>351</td>\n",
       "      <td>2024-10-24</td>\n",
       "      <td>2024-10-27</td>\n",
       "    </tr>\n",
       "    <tr>\n",
       "      <th>3</th>\n",
       "      <td>Apartamento en Sentrum</td>\n",
       "      <td>13,planta Tjuvholmen, gran vista, terraza en l...</td>\n",
       "      <td>549</td>\n",
       "      <td>2024-10-24</td>\n",
       "      <td>2024-10-27</td>\n",
       "    </tr>\n",
       "    <tr>\n",
       "      <th>4</th>\n",
       "      <td>Apartamento en Sankt Hanshaugen</td>\n",
       "      <td>Un oasis verde en medio de Oslo</td>\n",
       "      <td>774</td>\n",
       "      <td>2024-10-24</td>\n",
       "      <td>2024-10-27</td>\n",
       "    </tr>\n",
       "    <tr>\n",
       "      <th>7</th>\n",
       "      <td>Loft en Ris</td>\n",
       "      <td>Vinderen, amplio apartamento en el ático</td>\n",
       "      <td>480</td>\n",
       "      <td>2024-10-24</td>\n",
       "      <td>2024-10-27</td>\n",
       "    </tr>\n",
       "  </tbody>\n",
       "</table>\n",
       "</div>"
      ],
      "text/plain": [
       "                            Título  \\\n",
       "1        Apartamento en Gamle Oslo   \n",
       "2      Apartamento en Oslo kommune   \n",
       "3           Apartamento en Sentrum   \n",
       "4  Apartamento en Sankt Hanshaugen   \n",
       "7                      Loft en Ris   \n",
       "\n",
       "                                         Descripción  Precio (€)  \\\n",
       "1    Apartamento de 3 habitaciones en Ensjø/ Helsfyr         307   \n",
       "2           Acogedor, céntrico y habitaciones cuatro         351   \n",
       "3  13,planta Tjuvholmen, gran vista, terraza en l...         549   \n",
       "4                    Un oasis verde en medio de Oslo         774   \n",
       "7           Vinderen, amplio apartamento en el ático         480   \n",
       "\n",
       "  Fecha entrada Fecha salida  \n",
       "1    2024-10-24   2024-10-27  \n",
       "2    2024-10-24   2024-10-27  \n",
       "3    2024-10-24   2024-10-27  \n",
       "4    2024-10-24   2024-10-27  \n",
       "7    2024-10-24   2024-10-27  "
      ]
     },
     "execution_count": 21,
     "metadata": {},
     "output_type": "execute_result"
    }
   ],
   "source": [
    "df[\"Precio (€)\"] = df[\"Precio (€)\"].str.replace(\".\",\"\").replace(\"noche,\",np.nan)\n",
    "df = df.dropna(subset=[\"Precio (€)\"])\n",
    "df[\"Fecha entrada\"] = pd.to_datetime(df[\"Fecha entrada\"],format=\"mixed\")\n",
    "df[\"Fecha salida\"] = pd.to_datetime(df[\"Fecha salida\"],format=\"mixed\")\n",
    "df[\"Precio (€)\"] = df[\"Precio (€)\"].astype(int)\n",
    "df.head()"
   ]
  },
  {
   "cell_type": "code",
   "execution_count": 12,
   "metadata": {},
   "outputs": [],
   "source": [
    "df.to_csv(\"../datos/alojamientos_oslo.csv\")"
   ]
  },
  {
   "cell_type": "code",
   "execution_count": 22,
   "metadata": {},
   "outputs": [
    {
     "data": {
      "image/png": "[encoded data removed]",
      "text/plain": [
       "<Figure size 1000x600 with 1 Axes>"
      ]
     },
     "metadata": {},
     "output_type": "display_data"
    }
   ],
   "source": [
    "media_precio = df.groupby('Fecha entrada')['Precio (€)'].mean()\n",
    "\n",
    "# Create the same line plot but using seaborn for a more refined visualization\n",
    "plt.figure(figsize=(10, 6))\n",
    "sns.lineplot(x=media_precio.index, y=media_precio.values, marker='o')\n",
    "plt.title('Precio Medio de Alojamientos por fecha de entrada')\n",
    "plt.xlabel('Fecha de Entrada')\n",
    "plt.ylabel('Precio Medio (€)')\n",
    "plt.grid(True)\n",
    "plt.show()"
   ]
  }
 ],
 "metadata": {
  "kernelspec": {
   "display_name": "Hackio_Proyecto_Semana_3",
   "language": "python",
   "name": "python3"
  },
  "language_info": {
   "codemirror_mode": {
    "name": "ipython",
    "version": 3
   },
   "file_extension": ".py",
   "mimetype": "text/x-python",
   "name": "python",
   "nbconvert_exporter": "python",
   "pygments_lexer": "ipython3",
   "version": "3.11.9"
  }
 },
 "nbformat": 4,
 "nbformat_minor": 2
}
