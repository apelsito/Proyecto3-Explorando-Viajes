{
 "cells": [
  {
   "cell_type": "code",
   "execution_count": 14,
   "metadata": {},
   "outputs": [],
   "source": [
    "# Importamos las librerías que necesitamos\n",
    "\n",
    "# Librerías para control y automatización de navegadores (Web Scraping)\n",
    "# -----------------------------------------------------------------------\n",
    "from selenium import webdriver                   # Para controlar el navegador automáticamente\n",
    "from selenium.webdriver.chrome.service import Service  # Para manejar los servicios de ChromeDriver\n",
    "from selenium.webdriver.common.by import By      # Para seleccionar elementos en el DOM de la página\n",
    "from selenium.webdriver.chrome.options import Options  # Para establecer opciones en el navegador (como headless mode)\n",
    "import time                                      # Para gestionar el tiempo (pausas)\n",
    "\n",
    "# Librerías para extracción y scraping de datos\n",
    "# -----------------------------------------------------------------------\n",
    "from bs4 import BeautifulSoup  # Para analizar y extraer datos de HTML y XML, utilizada en scraping web\n",
    "import requests                # Para hacer solicitudes HTTP y obtener datos de páginas web\n",
    "import tqdm                    # Para mostrar barras de progreso en bucles largos\n",
    "\n",
    "# Librerías para el tratamiento y manipulación de datos\n",
    "# -----------------------------------------------------------------------\n",
    "import pandas as pd             # Para manipular estructuras de datos como DataFrames\n",
    "import numpy as np              # Para cálculos numéricos y arrays multidimensionales\n",
    "import datetime                 # Para manejar fechas y horas\n",
    "\n",
    "# Manejo del tiempo y generación de pausas\n",
    "# -----------------------------------------------------------------------\n",
    "from time import sleep          # Para pausar la ejecución del código por un tiempo determinado\n",
    "import random                   # Para generar valores aleatorios, útil para espaciar solicitudes web\n",
    "\n",
    "# Para importar módulos desde rutas recursivas\n",
    "# -----------------------------------------------------------------------\n",
    "import sys\n",
    "sys.path.append(\"../\")  # Para poder importar archivos desde carpetas fuera de la raíz del proyecto\n",
    "from src.SupportAlojamientos import obtain_html, make_df  # Funciones personalizadas de soporte\n",
    "\n",
    "# Control de advertencias\n",
    "# -----------------------------------------------------------------------\n",
    "import warnings\n",
    "warnings.filterwarnings('ignore')  # Ignorar advertencias para una salida de consola más limpia\n",
    "\n",
    "# Librerías para visualización de datos\n",
    "# -----------------------------------------------------------------------\n",
    "import matplotlib.pyplot as plt     # Para crear gráficos y visualizaciones básicas\n",
    "import seaborn as sns               # Para visualizaciones estadísticas más avanzadas y atractivas\n"
   ]
  },
  {
   "cell_type": "markdown",
   "metadata": {},
   "source": [
    "# Vamos a buscar los apartamentos para todas las fechas de los vuelos\n",
    "\n",
    "Usando BeautifulSoup y requests, nos vamos a guardar las urls y para que no nos bloqueen, lo guardaremos en un HTML\n",
    "URLs:\n",
    "\n",
    "1er Finde\n",
    "- https://www.airbnb.es/s/M%C3%B3naco/homes?tab_id=home_tab&refinement_paths%5B%5D=%2Fhomes&flexible_trip_lengths%5B%5D=one_week&monthly_start_date=2024-11-01&monthly_length=3&monthly_end_date=2025-02-01&price_filter_input_type=0&channel=EXPLORE&query=M%C3%B3naco&place_id=ChIJMYU_e2_CzRIR_JzEOkx493Q&date_picker_type=calendar&checkin=2024-10-24&checkout=2024-10-27&adults=4&source=structured_search_input_header&search_type=filter_change&search_mode=regular_search&price_filter_num_nights=3&room_types%5B%5D=Entire%20home%2Fapt&amenities%5B%5D=4&amenities%5B%5D=8\n",
    "\n",
    "2do Finde\n",
    "- https://www.airbnb.es/s/M%C3%B3naco/homes?tab_id=home_tab&refinement_paths%5B%5D=%2Fhomes&flexible_trip_lengths%5B%5D=one_week&monthly_start_date=2024-11-01&monthly_length=3&monthly_end_date=2025-02-01&price_filter_input_type=0&channel=EXPLORE&query=M%C3%B3naco&place_id=ChIJMYU_e2_CzRIR_JzEOkx493Q&date_picker_type=calendar&checkin=2024-10-31&checkout=2024-11-03&adults=4&source=structured_search_input_header&search_type=filter_change&search_mode=regular_search&price_filter_num_nights=3&room_types%5B%5D=Entire%20home%2Fapt&amenities%5B%5D=4&amenities%5B%5D=8\n",
    "\n",
    "3er Finde\n",
    "- https://www.airbnb.es/s/M%C3%B3naco/homes?tab_id=home_tab&refinement_paths%5B%5D=%2Fhomes&flexible_trip_lengths%5B%5D=one_week&monthly_start_date=2024-11-01&monthly_length=3&monthly_end_date=2025-02-01&price_filter_input_type=0&channel=EXPLORE&query=M%C3%B3naco&place_id=ChIJMYU_e2_CzRIR_JzEOkx493Q&date_picker_type=calendar&checkin=2024-11-07&checkout=2024-11-10&adults=4&source=structured_search_input_header&search_type=filter_change&search_mode=regular_search&price_filter_num_nights=3&room_types%5B%5D=Entire%20home%2Fapt&amenities%5B%5D=4&amenities%5B%5D=8\n",
    "\n",
    "4to Finde\n",
    "- https://www.airbnb.es/s/M%C3%B3naco/homes?tab_id=home_tab&refinement_paths%5B%5D=%2Fhomes&flexible_trip_lengths%5B%5D=one_week&monthly_start_date=2024-11-01&monthly_length=3&monthly_end_date=2025-02-01&price_filter_input_type=0&channel=EXPLORE&query=M%C3%B3naco&place_id=ChIJMYU_e2_CzRIR_JzEOkx493Q&date_picker_type=calendar&checkin=2024-11-14&checkout=2024-11-17&adults=4&source=structured_search_input_header&search_type=filter_change&search_mode=regular_search&price_filter_num_nights=3&room_types%5B%5D=Entire%20home%2Fapt&amenities%5B%5D=4&amenities%5B%5D=8\n",
    "\n",
    "5to Finde\n",
    "- https://www.airbnb.es/s/M%C3%B3naco/homes?tab_id=home_tab&refinement_paths%5B%5D=%2Fhomes&flexible_trip_lengths%5B%5D=one_week&monthly_start_date=2024-11-01&monthly_length=3&monthly_end_date=2025-02-01&price_filter_input_type=0&channel=EXPLORE&query=M%C3%B3naco&place_id=ChIJMYU_e2_CzRIR_JzEOkx493Q&date_picker_type=calendar&checkin=2024-11-21&checkout=2024-11-24&adults=4&source=structured_search_input_header&search_type=filter_change&search_mode=regular_search&price_filter_num_nights=3&room_types%5B%5D=Entire%20home%2Fapt&amenities%5B%5D=4&amenities%5B%5D=8\n",
    "\n",
    "6to Finde\n",
    "- https://www.airbnb.es/s/M%C3%B3naco/homes?tab_id=home_tab&refinement_paths%5B%5D=%2Fhomes&flexible_trip_lengths%5B%5D=one_week&monthly_start_date=2024-11-01&monthly_length=3&monthly_end_date=2025-02-01&price_filter_input_type=0&channel=EXPLORE&query=M%C3%B3naco&place_id=ChIJMYU_e2_CzRIR_JzEOkx493Q&date_picker_type=calendar&checkin=2024-11-28&checkout=2024-12-01&adults=4&source=structured_search_input_header&search_type=filter_change&search_mode=regular_search&price_filter_num_nights=3&room_types%5B%5D=Entire%20home%2Fapt&amenities%5B%5D=4&amenities%5B%5D=8\n",
    "\n",
    "\n"
   ]
  },
  {
   "cell_type": "code",
   "execution_count": 15,
   "metadata": {},
   "outputs": [],
   "source": [
    "urls_airbnb = [\"https://www.airbnb.es/s/M%C3%B3naco/homes?tab_id=home_tab&refinement_paths%5B%5D=%2Fhomes&flexible_trip_lengths%5B%5D=one_week&monthly_start_date=2024-11-01&monthly_length=3&monthly_end_date=2025-02-01&price_filter_input_type=0&channel=EXPLORE&query=M%C3%B3naco&place_id=ChIJMYU_e2_CzRIR_JzEOkx493Q&date_picker_type=calendar&checkin=2024-10-24&checkout=2024-10-27&adults=4&source=structured_search_input_header&search_type=filter_change&search_mode=regular_search&price_filter_num_nights=3&room_types%5B%5D=Entire%20home%2Fapt&amenities%5B%5D=4&amenities%5B%5D=8\",\n",
    "               \"https://www.airbnb.es/s/M%C3%B3naco/homes?tab_id=home_tab&refinement_paths%5B%5D=%2Fhomes&flexible_trip_lengths%5B%5D=one_week&monthly_start_date=2024-11-01&monthly_length=3&monthly_end_date=2025-02-01&price_filter_input_type=0&channel=EXPLORE&query=M%C3%B3naco&place_id=ChIJMYU_e2_CzRIR_JzEOkx493Q&date_picker_type=calendar&checkin=2024-10-31&checkout=2024-11-03&adults=4&source=structured_search_input_header&search_type=filter_change&search_mode=regular_search&price_filter_num_nights=3&room_types%5B%5D=Entire%20home%2Fapt&amenities%5B%5D=4&amenities%5B%5D=8\",\n",
    "               \"https://www.airbnb.es/s/M%C3%B3naco/homes?tab_id=home_tab&refinement_paths%5B%5D=%2Fhomes&flexible_trip_lengths%5B%5D=one_week&monthly_start_date=2024-11-01&monthly_length=3&monthly_end_date=2025-02-01&price_filter_input_type=0&channel=EXPLORE&query=M%C3%B3naco&place_id=ChIJMYU_e2_CzRIR_JzEOkx493Q&date_picker_type=calendar&checkin=2024-11-07&checkout=2024-11-10&adults=4&source=structured_search_input_header&search_type=filter_change&search_mode=regular_search&price_filter_num_nights=3&room_types%5B%5D=Entire%20home%2Fapt&amenities%5B%5D=4&amenities%5B%5D=8\",\n",
    "               \"https://www.airbnb.es/s/M%C3%B3naco/homes?tab_id=home_tab&refinement_paths%5B%5D=%2Fhomes&flexible_trip_lengths%5B%5D=one_week&monthly_start_date=2024-11-01&monthly_length=3&monthly_end_date=2025-02-01&price_filter_input_type=0&channel=EXPLORE&query=M%C3%B3naco&place_id=ChIJMYU_e2_CzRIR_JzEOkx493Q&date_picker_type=calendar&checkin=2024-11-14&checkout=2024-11-17&adults=4&source=structured_search_input_header&search_type=filter_change&search_mode=regular_search&price_filter_num_nights=3&room_types%5B%5D=Entire%20home%2Fapt&amenities%5B%5D=4&amenities%5B%5D=8\",\n",
    "               \"https://www.airbnb.es/s/M%C3%B3naco/homes?tab_id=home_tab&refinement_paths%5B%5D=%2Fhomes&flexible_trip_lengths%5B%5D=one_week&monthly_start_date=2024-11-01&monthly_length=3&monthly_end_date=2025-02-01&price_filter_input_type=0&channel=EXPLORE&query=M%C3%B3naco&place_id=ChIJMYU_e2_CzRIR_JzEOkx493Q&date_picker_type=calendar&checkin=2024-11-21&checkout=2024-11-24&adults=4&source=structured_search_input_header&search_type=filter_change&search_mode=regular_search&price_filter_num_nights=3&room_types%5B%5D=Entire%20home%2Fapt&amenities%5B%5D=4&amenities%5B%5D=8\",\n",
    "               \"https://www.airbnb.es/s/M%C3%B3naco/homes?tab_id=home_tab&refinement_paths%5B%5D=%2Fhomes&flexible_trip_lengths%5B%5D=one_week&monthly_start_date=2024-11-01&monthly_length=3&monthly_end_date=2025-02-01&price_filter_input_type=0&channel=EXPLORE&query=M%C3%B3naco&place_id=ChIJMYU_e2_CzRIR_JzEOkx493Q&date_picker_type=calendar&checkin=2024-11-28&checkout=2024-12-01&adults=4&source=structured_search_input_header&search_type=filter_change&search_mode=regular_search&price_filter_num_nights=3&room_types%5B%5D=Entire%20home%2Fapt&amenities%5B%5D=4&amenities%5B%5D=8\"\n",
    "               ]\n",
    "\n",
    "rutas_guardar = [\"../datos/html_backups/airbnb_monaco_finde1.html\",\n",
    "                 \"../datos/html_backups/airbnb_monaco_finde2.html\",\n",
    "                 \"../datos/html_backups/airbnb_monaco_finde3.html\",\n",
    "                 \"../datos/html_backups/airbnb_monaco_finde4.html\",\n",
    "                 \"../datos/html_backups/airbnb_monaco_finde5.html\",\n",
    "                 \"../datos/html_backups/airbnb_monaco_finde6.html\"]"
   ]
  },
  {
   "cell_type": "markdown",
   "metadata": {},
   "source": [
    "# Guardamos los HTML por fin de semana"
   ]
  },
  {
   "cell_type": "code",
   "execution_count": 5,
   "metadata": {},
   "outputs": [],
   "source": [
    "obtain_html(urls_airbnb,rutas_guardar)"
   ]
  },
  {
   "cell_type": "markdown",
   "metadata": {},
   "source": [
    "# Los leemos y volvemos soup"
   ]
  },
  {
   "cell_type": "code",
   "execution_count": 16,
   "metadata": {},
   "outputs": [],
   "source": [
    "finde_soups = {}\n",
    "# Leer todos los HTML\n",
    "for i, file_path in enumerate(rutas_guardar, start=1):\n",
    "    with open(file_path, \"r\", encoding=\"utf-8\") as file:\n",
    "        page_content = file.read()\n",
    "        soup = BeautifulSoup(page_content, \"html.parser\")\n",
    "        # Guardar con variables dinamicas\n",
    "        finde_soups[f'finde{i}'] = soup\n",
    "\n",
    "finde1 = finde_soups['finde1']\n",
    "finde2 = finde_soups['finde2']\n",
    "finde3 = finde_soups['finde3']\n",
    "finde4 = finde_soups['finde4']\n",
    "finde5 = finde_soups['finde5']\n",
    "finde6 = finde_soups['finde6']\n",
    "findes = [finde1,finde2,finde3,finde4,finde5,finde6]"
   ]
  },
  {
   "cell_type": "markdown",
   "metadata": {},
   "source": [
    "# Con esta función hacemos el DF"
   ]
  },
  {
   "cell_type": "code",
   "execution_count": 17,
   "metadata": {},
   "outputs": [
    {
     "data": {
      "text/html": [
       "<div>\n",
       "<style scoped>\n",
       "    .dataframe tbody tr th:only-of-type {\n",
       "        vertical-align: middle;\n",
       "    }\n",
       "\n",
       "    .dataframe tbody tr th {\n",
       "        vertical-align: top;\n",
       "    }\n",
       "\n",
       "    .dataframe thead th {\n",
       "        text-align: right;\n",
       "    }\n",
       "</style>\n",
       "<table border=\"1\" class=\"dataframe\">\n",
       "  <thead>\n",
       "    <tr style=\"text-align: right;\">\n",
       "      <th></th>\n",
       "      <th>Título</th>\n",
       "      <th>Descripción</th>\n",
       "      <th>Precio (€)</th>\n",
       "      <th>Fecha entrada</th>\n",
       "      <th>Fecha salida</th>\n",
       "    </tr>\n",
       "  </thead>\n",
       "  <tbody>\n",
       "    <tr>\n",
       "      <th>60</th>\n",
       "      <td>Apto. residencial en Beausoleil</td>\n",
       "      <td>Impresionante apartamento a 50 m de Monte-Carlo</td>\n",
       "      <td>585</td>\n",
       "      <td>14 nov.</td>\n",
       "      <td>17</td>\n",
       "    </tr>\n",
       "    <tr>\n",
       "      <th>105</th>\n",
       "      <td>Barco en Mónaco</td>\n",
       "      <td>Experiencia única Puerto de Mónaco</td>\n",
       "      <td>1.475</td>\n",
       "      <td>28 nov.</td>\n",
       "      <td>1 dic.</td>\n",
       "    </tr>\n",
       "    <tr>\n",
       "      <th>71</th>\n",
       "      <td>Apartamento en Kosovo Polje</td>\n",
       "      <td>Mali Apartment - Kosovo Court</td>\n",
       "      <td>221</td>\n",
       "      <td>14 nov.</td>\n",
       "      <td>17</td>\n",
       "    </tr>\n",
       "    <tr>\n",
       "      <th>93</th>\n",
       "      <td>Casa flotante en Mónaco</td>\n",
       "      <td>¡Una estancia de ensueño en nuestro yate!</td>\n",
       "      <td>3.161</td>\n",
       "      <td>21 nov.</td>\n",
       "      <td>24</td>\n",
       "    </tr>\n",
       "    <tr>\n",
       "      <th>39</th>\n",
       "      <td>Apartamento en Mónaco</td>\n",
       "      <td>Hermosas vistas con aparcamiento</td>\n",
       "      <td>1.790</td>\n",
       "      <td>31 oct.</td>\n",
       "      <td>3 nov.</td>\n",
       "    </tr>\n",
       "  </tbody>\n",
       "</table>\n",
       "</div>"
      ],
      "text/plain": [
       "                              Título  \\\n",
       "60   Apto. residencial en Beausoleil   \n",
       "105                  Barco en Mónaco   \n",
       "71       Apartamento en Kosovo Polje   \n",
       "93           Casa flotante en Mónaco   \n",
       "39             Apartamento en Mónaco   \n",
       "\n",
       "                                         Descripción Precio (€) Fecha entrada  \\\n",
       "60   Impresionante apartamento a 50 m de Monte-Carlo        585       14 nov.   \n",
       "105               Experiencia única Puerto de Mónaco      1.475       28 nov.   \n",
       "71                     Mali Apartment - Kosovo Court        221       14 nov.   \n",
       "93         ¡Una estancia de ensueño en nuestro yate!      3.161       21 nov.   \n",
       "39                  Hermosas vistas con aparcamiento      1.790       31 oct.   \n",
       "\n",
       "    Fecha salida  \n",
       "60            17  \n",
       "105       1 dic.  \n",
       "71            17  \n",
       "93            24  \n",
       "39        3 nov.  "
      ]
     },
     "execution_count": 17,
     "metadata": {},
     "output_type": "execute_result"
    }
   ],
   "source": [
    "df = make_df(findes)\n",
    "df.sample(5)"
   ]
  },
  {
   "cell_type": "markdown",
   "metadata": {},
   "source": [
    "# Ahora arreglamos las fechas y precios\n",
    "\n",
    "Primero generamos condiciones"
   ]
  },
  {
   "cell_type": "code",
   "execution_count": 18,
   "metadata": {},
   "outputs": [],
   "source": [
    "cond = df[\"Fecha entrada\"] == \"24 oct.\"\n",
    "cond2 = df[\"Fecha entrada\"] == \"31 oct.\"\n",
    "cond3 = df[\"Fecha entrada\"] == \"7 nov.\"\n",
    "cond4 = df[\"Fecha entrada\"] == \"14 nov.\"\n",
    "cond5 = df[\"Fecha entrada\"] == \"21 nov.\"\n",
    "cond6 = df[\"Fecha entrada\"] == \"28 nov.\""
   ]
  },
  {
   "cell_type": "markdown",
   "metadata": {},
   "source": [
    "Ahora creamos un DataFrame individual para cada uno"
   ]
  },
  {
   "cell_type": "code",
   "execution_count": 19,
   "metadata": {},
   "outputs": [],
   "source": [
    "df_finde1 = df[cond]\n",
    "df_finde2 = df[cond2]\n",
    "df_finde3 = df[cond3]\n",
    "df_finde4 = df[cond4]\n",
    "df_finde5 = df[cond5]\n",
    "df_finde6 = df[cond6]"
   ]
  },
  {
   "cell_type": "markdown",
   "metadata": {},
   "source": [
    "Igualamos las filas para arreglar las fechas"
   ]
  },
  {
   "cell_type": "code",
   "execution_count": 20,
   "metadata": {},
   "outputs": [],
   "source": [
    "df_finde1[\"Fecha entrada\"] = \"24/10/2024\"\n",
    "df_finde1[\"Fecha salida\"] = \"27/10/2024\"\n",
    "df_finde2[\"Fecha entrada\"] = \"31/10/2024\"\n",
    "df_finde2[\"Fecha salida\"] = \"3/11/2024\"\n",
    "df_finde3[\"Fecha entrada\"] = \"7/11/2024\"\n",
    "df_finde3[\"Fecha salida\"] = \"10/11/2024\"\n",
    "df_finde4[\"Fecha entrada\"] = \"14/11/2024\"\n",
    "df_finde4[\"Fecha salida\"] = \"17/11/2024\"\n",
    "df_finde5[\"Fecha entrada\"] = \"21/11/2024\"\n",
    "df_finde5[\"Fecha salida\"] = \"24/11/2024\"\n",
    "df_finde6[\"Fecha entrada\"] = \"28/11/2024\"\n",
    "df_finde6[\"Fecha salida\"] = \"1/12/2024\""
   ]
  },
  {
   "cell_type": "markdown",
   "metadata": {},
   "source": [
    "Concatenamos todo a un solo DF"
   ]
  },
  {
   "cell_type": "code",
   "execution_count": 21,
   "metadata": {},
   "outputs": [],
   "source": [
    "df = pd.concat([df_finde1,df_finde2,df_finde3,df_finde4,df_finde5,df_finde6],ignore_index=True)"
   ]
  },
  {
   "cell_type": "markdown",
   "metadata": {},
   "source": [
    "Limpiamos un poco la tabla y ponemos todo en formato adecuado"
   ]
  },
  {
   "cell_type": "code",
   "execution_count": 22,
   "metadata": {},
   "outputs": [
    {
     "data": {
      "text/html": [
       "<div>\n",
       "<style scoped>\n",
       "    .dataframe tbody tr th:only-of-type {\n",
       "        vertical-align: middle;\n",
       "    }\n",
       "\n",
       "    .dataframe tbody tr th {\n",
       "        vertical-align: top;\n",
       "    }\n",
       "\n",
       "    .dataframe thead th {\n",
       "        text-align: right;\n",
       "    }\n",
       "</style>\n",
       "<table border=\"1\" class=\"dataframe\">\n",
       "  <thead>\n",
       "    <tr style=\"text-align: right;\">\n",
       "      <th></th>\n",
       "      <th>Título</th>\n",
       "      <th>Descripción</th>\n",
       "      <th>Precio (€)</th>\n",
       "      <th>Fecha entrada</th>\n",
       "      <th>Fecha salida</th>\n",
       "    </tr>\n",
       "  </thead>\n",
       "  <tbody>\n",
       "    <tr>\n",
       "      <th>0</th>\n",
       "      <td>Apto. residencial en Beausoleil</td>\n",
       "      <td>Impresionante apartamento a 50 m de Monte-Carlo</td>\n",
       "      <td>656</td>\n",
       "      <td>2024-10-24</td>\n",
       "      <td>2024-10-27</td>\n",
       "    </tr>\n",
       "    <tr>\n",
       "      <th>1</th>\n",
       "      <td>Apartamento en Mónaco</td>\n",
       "      <td>Nuevo balcón de fácil acceso en el centro</td>\n",
       "      <td>851</td>\n",
       "      <td>2024-10-24</td>\n",
       "      <td>2024-10-27</td>\n",
       "    </tr>\n",
       "    <tr>\n",
       "      <th>2</th>\n",
       "      <td>Apto. residencial en Mónaco</td>\n",
       "      <td>MONACO-  DÚPLEX Apartamento 70 m2 SECTOR CASINO</td>\n",
       "      <td>1335</td>\n",
       "      <td>2024-10-24</td>\n",
       "      <td>2024-10-27</td>\n",
       "    </tr>\n",
       "    <tr>\n",
       "      <th>3</th>\n",
       "      <td>Apartamento en Mónaco</td>\n",
       "      <td>Piscina Moyenne Corniche con vistas al mar</td>\n",
       "      <td>884</td>\n",
       "      <td>2024-10-24</td>\n",
       "      <td>2024-10-27</td>\n",
       "    </tr>\n",
       "    <tr>\n",
       "      <th>4</th>\n",
       "      <td>Loft en Mónaco</td>\n",
       "      <td>Loft grande en Mónaco</td>\n",
       "      <td>2090</td>\n",
       "      <td>2024-10-24</td>\n",
       "      <td>2024-10-27</td>\n",
       "    </tr>\n",
       "  </tbody>\n",
       "</table>\n",
       "</div>"
      ],
      "text/plain": [
       "                            Título  \\\n",
       "0  Apto. residencial en Beausoleil   \n",
       "1            Apartamento en Mónaco   \n",
       "2      Apto. residencial en Mónaco   \n",
       "3            Apartamento en Mónaco   \n",
       "4                   Loft en Mónaco   \n",
       "\n",
       "                                       Descripción  Precio (€) Fecha entrada  \\\n",
       "0  Impresionante apartamento a 50 m de Monte-Carlo         656    2024-10-24   \n",
       "1        Nuevo balcón de fácil acceso en el centro         851    2024-10-24   \n",
       "2  MONACO-  DÚPLEX Apartamento 70 m2 SECTOR CASINO        1335    2024-10-24   \n",
       "3       Piscina Moyenne Corniche con vistas al mar         884    2024-10-24   \n",
       "4                            Loft grande en Mónaco        2090    2024-10-24   \n",
       "\n",
       "  Fecha salida  \n",
       "0   2024-10-27  \n",
       "1   2024-10-27  \n",
       "2   2024-10-27  \n",
       "3   2024-10-27  \n",
       "4   2024-10-27  "
      ]
     },
     "execution_count": 22,
     "metadata": {},
     "output_type": "execute_result"
    }
   ],
   "source": [
    "df[\"Precio (€)\"] = df[\"Precio (€)\"].str.replace(\".\",\"\").replace(\"noche,\",np.nan)\n",
    "df = df.dropna(subset=[\"Precio (€)\"])\n",
    "df[\"Fecha entrada\"] = pd.to_datetime(df[\"Fecha entrada\"],format=\"mixed\")\n",
    "df[\"Fecha salida\"] = pd.to_datetime(df[\"Fecha salida\"],format=\"mixed\")\n",
    "df[\"Precio (€)\"] = df[\"Precio (€)\"].astype(int)\n",
    "df.head()"
   ]
  },
  {
   "cell_type": "code",
   "execution_count": 12,
   "metadata": {},
   "outputs": [],
   "source": [
    "df.to_csv(\"../datos/alojamientos_mónaco.csv\")"
   ]
  },
  {
   "cell_type": "code",
   "execution_count": 26,
   "metadata": {},
   "outputs": [
    {
     "data": {
      "image/png": "[encoded data removed]",
      "text/plain": [
       "<Figure size 1000x600 with 1 Axes>"
      ]
     },
     "metadata": {},
     "output_type": "display_data"
    }
   ],
   "source": [
    "media_precio = df.groupby('Fecha entrada')['Precio (€)'].mean()\n",
    "\n",
    "# Create the same line plot but using seaborn for a more refined visualization\n",
    "plt.figure(figsize=(10, 6))\n",
    "sns.lineplot(x=media_precio.index, y=media_precio.values, marker='o')\n",
    "plt.title('Precio Medio de Alojamientos por fecha de entrada')\n",
    "plt.xlabel('Fecha de Entrada')\n",
    "plt.ylabel('Precio Medio (€)')\n",
    "plt.grid(True)\n",
    "plt.show()\n"
   ]
  },
  {
   "cell_type": "code",
   "execution_count": null,
   "metadata": {},
   "outputs": [],
   "source": []
  }
 ],
 "metadata": {
  "kernelspec": {
   "display_name": "Hackio_Proyecto_Semana_3",
   "language": "python",
   "name": "python3"
  },
  "language_info": {
   "codemirror_mode": {
    "name": "ipython",
    "version": 3
   },
   "file_extension": ".py",
   "mimetype": "text/x-python",
   "name": "python",
   "nbconvert_exporter": "python",
   "pygments_lexer": "ipython3",
   "version": "3.11.9"
  }
 },
 "nbformat": 4,
 "nbformat_minor": 2
}
